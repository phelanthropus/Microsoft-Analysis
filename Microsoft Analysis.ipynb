{
 "cells": [
  {
   "cell_type": "markdown",
   "metadata": {},
   "source": [
    "## PHASE ONE PROJECT: Analysis of Movie Performance Over Time\n",
    "\n",
    "# Introduction\n",
    "In the realm of entertainment innovation, Microsoft is on the verge of establishing a pioneering movie studio. As the designated analyst for this pivotal initiative, the goal is to decipher the intricate dynamics of successful contemporary films. Armed with comprehensive data encompassing movie titles, revenue metrics, studio affiliations, runtimes, genres, and audience ratings, the analysis aims to distill actionable insights. These findings will serve as a strategic compass, empowering Microsoft's movie studio to produce content that resonates with audiences and maximizes box office success. This exploration is a proactive step towards seamlessly integrating Microsoft into the dynamic realm of original content creation.\n",
    "# Explain the real-world problem the project aims to solve.\n",
    "This project addresses Microsoft's entry into original content creation within the film industry, focusing on establishing a successful movie studio. The real-world problem involves deciphering the key factors contributing to the success of contemporary films. By analyzing data on movie titles, revenue metrics, studio affiliations, runtimes, genres, and audience ratings, the goal is to provide actionable insights. The project aims to empower Microsoft with strategic knowledge, enabling informed decisions and a distinctive presence in the dynamic realm of original content creation.\n",
    "# Identify stakeholders and how they would use the project.\n",
    "Stakeholders in this project include Microsoft executives, creative teams involved in film production, and marketing teams tasked with promoting the studio's content. Microsoft executives would leverage the project to make informed decisions on the types of films to produce, aligning with market trends. Creative teams would utilize the insights to tailor their film concepts to genres and characteristics that resonate with audiences, increasing the likelihood of success. Marketing teams would benefit by understanding the preferences and trends that drive box office success, allowing them to develop targeted promotional strategies for the studio's films.\n",
    "\n",
    "\n"
   ]
  },
  {
   "cell_type": "markdown",
   "metadata": {},
   "source": [
    "# Explaining the data set \n",
    "The dataset for this analysis comprises two key sources. The first is a CSV file containing information on movie titles, domestic gross, foreign gross, studio affiliations, and release years. This dataset offers insights into the financial performance and distribution of films over time. The second source is an SQL database providing details on movie runtimes, genres, average ratings, and the number of votes received. This database enriches the analysis with information about the content and audience reception of the films. The combined dataset equips us with a comprehensive view of both the financial and qualitative aspects of movie production, facilitating a holistic exploration of the factors influencing box office success."
   ]
  },
  {
   "cell_type": "markdown",
   "metadata": {},
   "source": [
    "# Importing the data sets and the relevant libraries\n",
    "This ensures that we have the data needed to perform the analysis, as well as the necessary libraries that will aid in performing the mentioned analyses. "
   ]
  },
  {
   "cell_type": "code",
   "execution_count": 400,
   "metadata": {},
   "outputs": [],
   "source": [
    "#import the necessary libraries\n",
    "import csv\n",
    "import pandas as pd\n",
    "import sqlite3\n",
    "import numpy as np\n",
    "import matplotlib.pyplot as plt\n",
    "from sqlalchemy import create_engine"
   ]
  },
  {
   "cell_type": "markdown",
   "metadata": {},
   "source": [
    "## Data Analysis per Data Set\n",
    "The data sets will be analysed in three steps:\n",
    "1. Individual Analysis of the CSV file\n",
    "2. Individual Analysis of the SQL Database\n",
    "3. Joint Analysis of the data sets. \n",
    "The purpose of this approach is to ensure that inferences are drawn from the various data sets independently as well as when they are joined. "
   ]
  },
  {
   "cell_type": "markdown",
   "metadata": {},
   "source": [
    "## 1. Individual Analysis of the CSV file"
   ]
  },
  {
   "cell_type": "markdown",
   "metadata": {},
   "source": [
    "### 1.1 Loaidng the Data Set"
   ]
  },
  {
   "cell_type": "code",
   "execution_count": 401,
   "metadata": {},
   "outputs": [
    {
     "name": "stdout",
     "output_type": "stream",
     "text": [
      "                                         title studio  domestic_gross  \\\n",
      "0                                  Toy Story 3     BV     415000000.0   \n",
      "1                   Alice in Wonderland (2010)     BV     334200000.0   \n",
      "2  Harry Potter and the Deathly Hallows Part 1     WB     296000000.0   \n",
      "3                                    Inception     WB     292600000.0   \n",
      "4                          Shrek Forever After   P/DW     238700000.0   \n",
      "5                   The Twilight Saga: Eclipse   Sum.     300500000.0   \n",
      "6                                   Iron Man 2   Par.     312400000.0   \n",
      "7                                      Tangled     BV     200800000.0   \n",
      "8                                Despicable Me   Uni.     251500000.0   \n",
      "9                     How to Train Your Dragon   P/DW     217600000.0   \n",
      "\n",
      "  foreign_gross  year  \n",
      "0     652000000  2010  \n",
      "1     691300000  2010  \n",
      "2     664300000  2010  \n",
      "3     535700000  2010  \n",
      "4     513900000  2010  \n",
      "5     398000000  2010  \n",
      "6     311500000  2010  \n",
      "7     391000000  2010  \n",
      "8     291600000  2010  \n",
      "9     277300000  2010  \n"
     ]
    }
   ],
   "source": [
    "# Create the needed file path\n",
    "file_path = './bom.movie_gross.csv'\n",
    "#Read it into a pandas dataframe\n",
    "df =pd.read_csv(file_path)\n",
    "#show the results of the top ten in the list \n",
    "print(df.head(10))"
   ]
  },
  {
   "cell_type": "markdown",
   "metadata": {},
   "source": [
    "### 1.2 Cleaning the Data Set\n",
    "1.2.1 We will start by dropping the rows that haver missing values for the domestic gross or the foreign gross columns. This ensures that we deleted al the null values, hence giving us a clean data set to work with."
   ]
  },
  {
   "cell_type": "code",
   "execution_count": 402,
   "metadata": {},
   "outputs": [
    {
     "name": "stdout",
     "output_type": "stream",
     "text": [
      "                                                  title  domestic_gross  \\\n",
      "0                                           Toy Story 3     415000000.0   \n",
      "1                            Alice in Wonderland (2010)     334200000.0   \n",
      "2           Harry Potter and the Deathly Hallows Part 1     296000000.0   \n",
      "3                                             Inception     292600000.0   \n",
      "4                                   Shrek Forever After     238700000.0   \n",
      "...                                                 ...             ...   \n",
      "3275                                    I Still See You          1400.0   \n",
      "3286                              The Catcher Was a Spy        725000.0   \n",
      "3309                                         Time Freak         10000.0   \n",
      "3342  Reign of Judges: Title of Liberty - Concept Short         93200.0   \n",
      "3353            Antonio Lopez 1970: Sex Fashion & Disco         43200.0   \n",
      "\n",
      "     foreign_gross  \n",
      "0        652000000  \n",
      "1        691300000  \n",
      "2        664300000  \n",
      "3        535700000  \n",
      "4        513900000  \n",
      "...            ...  \n",
      "3275       1500000  \n",
      "3286        229000  \n",
      "3309        256000  \n",
      "3342          5200  \n",
      "3353         30000  \n",
      "\n",
      "[2009 rows x 3 columns]\n"
     ]
    }
   ],
   "source": [
    "#Drop rows with missing values in the 'domestic gross' and 'foreign gross' features\n",
    "df.dropna(subset=['domestic_gross', 'foreign_gross'], inplace=True)\n",
    "\n",
    "# Display the DataFrame after dropping rows\n",
    "print(df[['title', 'domestic_gross', 'foreign_gross']])"
   ]
  },
  {
   "cell_type": "markdown",
   "metadata": {},
   "source": [
    "1.2.2 Let's check if there are abny other columns that have null values"
   ]
  },
  {
   "cell_type": "code",
   "execution_count": 403,
   "metadata": {},
   "outputs": [
    {
     "name": "stdout",
     "output_type": "stream",
     "text": [
      "Null Values in the CSV Data:\n",
      "title             0\n",
      "studio            2\n",
      "domestic_gross    0\n",
      "foreign_gross     0\n",
      "year              0\n",
      "dtype: int64\n"
     ]
    }
   ],
   "source": [
    "# Check for null values in the DataFrame\n",
    "null_values = df.isnull().sum()\n",
    "\n",
    "# Display the count of null values for each column\n",
    "print(\"Null Values in the CSV Data:\")\n",
    "print(null_values)"
   ]
  },
  {
   "cell_type": "markdown",
   "metadata": {},
   "source": [
    "1.2.3 Let's delete the null values in the studio column as shown in the output above"
   ]
  },
  {
   "cell_type": "code",
   "execution_count": 404,
   "metadata": {},
   "outputs": [
    {
     "name": "stdout",
     "output_type": "stream",
     "text": [
      "                                                  title        studio  \\\n",
      "0                                           Toy Story 3            BV   \n",
      "1                            Alice in Wonderland (2010)            BV   \n",
      "2           Harry Potter and the Deathly Hallows Part 1            WB   \n",
      "3                                             Inception            WB   \n",
      "4                                   Shrek Forever After          P/DW   \n",
      "...                                                 ...           ...   \n",
      "3275                                    I Still See You           LGF   \n",
      "3286                              The Catcher Was a Spy           IFC   \n",
      "3309                                         Time Freak    Grindstone   \n",
      "3342  Reign of Judges: Title of Liberty - Concept Short  Darin Southa   \n",
      "3353            Antonio Lopez 1970: Sex Fashion & Disco            FM   \n",
      "\n",
      "      domestic_gross foreign_gross  year  \n",
      "0        415000000.0     652000000  2010  \n",
      "1        334200000.0     691300000  2010  \n",
      "2        296000000.0     664300000  2010  \n",
      "3        292600000.0     535700000  2010  \n",
      "4        238700000.0     513900000  2010  \n",
      "...              ...           ...   ...  \n",
      "3275          1400.0       1500000  2018  \n",
      "3286        725000.0        229000  2018  \n",
      "3309         10000.0        256000  2018  \n",
      "3342         93200.0          5200  2018  \n",
      "3353         43200.0         30000  2018  \n",
      "\n",
      "[2007 rows x 5 columns]\n"
     ]
    }
   ],
   "source": [
    "#Drop rows with missing values in the 'studio' features\n",
    "df.dropna(subset=['studio'], inplace=True)\n",
    "#save the cleaned data under a new variable name for reference\n",
    "cleaned_data = df\n",
    "# Display the DataFrame after dropping rows\n",
    "print(cleaned_data)\n",
    "#print(df[['title', 'domestic_gross', 'foreign_gross', 'studio']])"
   ]
  },
  {
   "cell_type": "markdown",
   "metadata": {},
   "source": [
    "1.2.4 Let's see the data types, and make necessary adjustments where necessary. We ideally want the Title and Studio to be Objects, domestic gross and foreign gross to be integers or floats, and year to be am integer. If that's the case, then the data is in a good shape for us to manipulate. "
   ]
  },
  {
   "cell_type": "code",
   "execution_count": 405,
   "metadata": {},
   "outputs": [
    {
     "name": "stdout",
     "output_type": "stream",
     "text": [
      "Data Types of Each Column:\n",
      "title              object\n",
      "studio             object\n",
      "domestic_gross    float64\n",
      "foreign_gross      object\n",
      "year                int64\n",
      "dtype: object\n"
     ]
    }
   ],
   "source": [
    "\n",
    " #Display data types of each column\n",
    "print(\"Data Types of Each Column:\")\n",
    "print(cleaned_data.dtypes)"
   ]
  },
  {
   "cell_type": "code",
   "execution_count": 406,
   "metadata": {},
   "outputs": [
    {
     "data": {
      "text/plain": [
       "False    2007\n",
       "Name: count, dtype: int64"
      ]
     },
     "execution_count": 406,
     "metadata": {},
     "output_type": "execute_result"
    }
   ],
   "source": [
    "df.duplicated().value_counts()"
   ]
  },
  {
   "cell_type": "code",
   "execution_count": 407,
   "metadata": {},
   "outputs": [
    {
     "data": {
      "text/plain": [
       "array([4.150e+08, 3.342e+08, 2.960e+08, ..., 4.910e+05, 7.250e+05,\n",
       "       9.320e+04])"
      ]
     },
     "execution_count": 407,
     "metadata": {},
     "output_type": "execute_result"
    }
   ],
   "source": [
    "df['domestic_gross'].unique()"
   ]
  },
  {
   "cell_type": "code",
   "execution_count": 408,
   "metadata": {},
   "outputs": [
    {
     "name": "stdout",
     "output_type": "stream",
     "text": [
      "<class 'pandas.core.frame.DataFrame'>\n",
      "Index: 2007 entries, 0 to 3353\n",
      "Data columns (total 5 columns):\n",
      " #   Column          Non-Null Count  Dtype  \n",
      "---  ------          --------------  -----  \n",
      " 0   title           2007 non-null   object \n",
      " 1   studio          2007 non-null   object \n",
      " 2   domestic_gross  2007 non-null   float64\n",
      " 3   foreign_gross   2007 non-null   object \n",
      " 4   year            2007 non-null   int64  \n",
      "dtypes: float64(1), int64(1), object(3)\n",
      "memory usage: 94.1+ KB\n"
     ]
    }
   ],
   "source": [
    "df.info()"
   ]
  },
  {
   "cell_type": "code",
   "execution_count": 409,
   "metadata": {},
   "outputs": [
    {
     "data": {
      "text/html": [
       "<div>\n",
       "<style scoped>\n",
       "    .dataframe tbody tr th:only-of-type {\n",
       "        vertical-align: middle;\n",
       "    }\n",
       "\n",
       "    .dataframe tbody tr th {\n",
       "        vertical-align: top;\n",
       "    }\n",
       "\n",
       "    .dataframe thead th {\n",
       "        text-align: right;\n",
       "    }\n",
       "</style>\n",
       "<table border=\"1\" class=\"dataframe\">\n",
       "  <thead>\n",
       "    <tr style=\"text-align: right;\">\n",
       "      <th></th>\n",
       "      <th>domestic_gross</th>\n",
       "      <th>year</th>\n",
       "    </tr>\n",
       "  </thead>\n",
       "  <tbody>\n",
       "    <tr>\n",
       "      <th>count</th>\n",
       "      <td>2.007000e+03</td>\n",
       "      <td>2007.000000</td>\n",
       "    </tr>\n",
       "    <tr>\n",
       "      <th>mean</th>\n",
       "      <td>4.701984e+07</td>\n",
       "      <td>2013.506228</td>\n",
       "    </tr>\n",
       "    <tr>\n",
       "      <th>std</th>\n",
       "      <td>8.162689e+07</td>\n",
       "      <td>2.597997</td>\n",
       "    </tr>\n",
       "    <tr>\n",
       "      <th>min</th>\n",
       "      <td>4.000000e+02</td>\n",
       "      <td>2010.000000</td>\n",
       "    </tr>\n",
       "    <tr>\n",
       "      <th>25%</th>\n",
       "      <td>6.700000e+05</td>\n",
       "      <td>2011.000000</td>\n",
       "    </tr>\n",
       "    <tr>\n",
       "      <th>50%</th>\n",
       "      <td>1.670000e+07</td>\n",
       "      <td>2013.000000</td>\n",
       "    </tr>\n",
       "    <tr>\n",
       "      <th>75%</th>\n",
       "      <td>5.605000e+07</td>\n",
       "      <td>2016.000000</td>\n",
       "    </tr>\n",
       "    <tr>\n",
       "      <th>max</th>\n",
       "      <td>9.367000e+08</td>\n",
       "      <td>2018.000000</td>\n",
       "    </tr>\n",
       "  </tbody>\n",
       "</table>\n",
       "</div>"
      ],
      "text/plain": [
       "       domestic_gross         year\n",
       "count    2.007000e+03  2007.000000\n",
       "mean     4.701984e+07  2013.506228\n",
       "std      8.162689e+07     2.597997\n",
       "min      4.000000e+02  2010.000000\n",
       "25%      6.700000e+05  2011.000000\n",
       "50%      1.670000e+07  2013.000000\n",
       "75%      5.605000e+07  2016.000000\n",
       "max      9.367000e+08  2018.000000"
      ]
     },
     "execution_count": 409,
     "metadata": {},
     "output_type": "execute_result"
    }
   ],
   "source": [
    "df.describe()"
   ]
  },
  {
   "cell_type": "markdown",
   "metadata": {},
   "source": [
    "### 1.3 Data Analysis and Visualization\n",
    "Now that we have cleaned the data we can now do the analysis"
   ]
  },
  {
   "cell_type": "markdown",
   "metadata": {},
   "source": [
    "1.3.1 Let's find the top ten studios based on total gross for the period of time. This forms part of competitor analysis and we can also usae this data later when we want to highlight specific details about the top studios."
   ]
  },
  {
   "cell_type": "code",
   "execution_count": 410,
   "metadata": {},
   "outputs": [
    {
     "name": "stdout",
     "output_type": "stream",
     "text": [
      "Top Ten Studios Based on Total Gross:\n",
      "studio\n",
      "BV         4.257488e+10\n",
      "Fox        3.098037e+10\n",
      "WB         3.079150e+10\n",
      "Uni.       2.851551e+10\n",
      "Sony       2.240472e+10\n",
      "Par.       1.944420e+10\n",
      "WB (NL)    1.031410e+10\n",
      "LGF        8.467471e+09\n",
      "LG/S       5.318924e+09\n",
      "P/DW       5.076500e+09\n",
      "Name: total_gross, dtype: float64\n"
     ]
    }
   ],
   "source": [
    "cleaned_data = data\n",
    "# Create a new column 'total_gross' representing the sum of domestic and foreign gross\n",
    "data['total_gross'] =  pd.to_numeric(data['domestic_gross'], errors='coerce') + pd.to_numeric(data['foreign_gross'], errors='coerce')\n",
    "\n",
    "# Group by studio and calculate the total gross for each\n",
    "studio_total_gross = data.groupby('studio')['total_gross'].sum()\n",
    "\n",
    "# Get the top ten studios\n",
    "top_ten_studios = studio_total_gross.nlargest(10)\n",
    "\n",
    "# Print the list of top ten studios based on total gross\n",
    "print(\"Top Ten Studios Based on Total Gross:\")\n",
    "print(top_ten_studios)"
   ]
  },
  {
   "cell_type": "code",
   "execution_count": 411,
   "metadata": {},
   "outputs": [
    {
     "name": "stdout",
     "output_type": "stream",
     "text": [
      "<class 'pandas.core.frame.DataFrame'>\n",
      "Index: 2007 entries, 0 to 3353\n",
      "Data columns (total 5 columns):\n",
      " #   Column          Non-Null Count  Dtype  \n",
      "---  ------          --------------  -----  \n",
      " 0   title           2007 non-null   object \n",
      " 1   studio          2007 non-null   object \n",
      " 2   domestic_gross  2007 non-null   float64\n",
      " 3   foreign_gross   2007 non-null   object \n",
      " 4   year            2007 non-null   int64  \n",
      "dtypes: float64(1), int64(1), object(3)\n",
      "memory usage: 94.1+ KB\n"
     ]
    }
   ],
   "source": [
    "df.info()"
   ]
  },
  {
   "cell_type": "code",
   "execution_count": 412,
   "metadata": {},
   "outputs": [
    {
     "name": "stdout",
     "output_type": "stream",
     "text": [
      "mean      4.701984e+07\n",
      "median    1.670000e+07\n",
      "std       8.162689e+07\n",
      "Name: domestic_gross, dtype: float64\n"
     ]
    },
    {
     "data": {
      "text/plain": [
       "<Axes: >"
      ]
     },
     "execution_count": 412,
     "metadata": {},
     "output_type": "execute_result"
    },
    {
     "data": {
      "image/png": "[encoded data removed]",
      "text/plain": [
       "<Figure size 640x480 with 1 Axes>"
      ]
     },
     "metadata": {},
     "output_type": "display_data"
    }
   ],
   "source": [
    "print(df['domestic_gross'].apply(['mean', 'median', 'std']))\n",
    "df['domestic_gross'].hist()"
   ]
  },
  {
   "cell_type": "code",
   "execution_count": null,
   "metadata": {},
   "outputs": [],
   "source": []
  },
  {
   "cell_type": "code",
   "execution_count": 413,
   "metadata": {},
   "outputs": [
    {
     "data": {
      "image/png": "[encoded data removed]",
      "text/plain": [
       "<Figure size 1200x800 with 1 Axes>"
      ]
     },
     "metadata": {},
     "output_type": "display_data"
    }
   ],
   "source": [
    "# Plotting a bar chart for the top ten studios\n",
    "plt.figure(figsize=(12, 8))\n",
    "top_ten_studios.sort_values(ascending=False).plot(kind='bar', color='pink')\n",
    "plt.title('Top Ten Studios Based on Total Gross')\n",
    "plt.xlabel('Studio')\n",
    "plt.ylabel('Total Gross')\n",
    "plt.show()"
   ]
  },
  {
   "cell_type": "code",
   "execution_count": 414,
   "metadata": {},
   "outputs": [
    {
     "data": {
      "image/png": "[encoded data removed]",
      "text/plain": [
       "<Figure size 1000x600 with 1 Axes>"
      ]
     },
     "metadata": {},
     "output_type": "display_data"
    }
   ],
   "source": [
    "# Group by studio and year, calculate the total gross for each\n",
    "studio_yearly_gross = data.groupby(['studio', 'year'])['total_gross'].sum().reset_index()\n",
    "\n",
    "# Get the top five studios\n",
    "top_five_studios = studio_yearly_gross.groupby('studio')['total_gross'].sum().nlargest(5).index\n",
    "\n",
    "# Filter data for the top ten studios\n",
    "top_five_data = studio_yearly_gross[studio_yearly_gross['studio'].isin(top_five_studios)]\n",
    "\n",
    "# Create a line chart for each studio\n",
    "plt.figure(figsize=(10, 6))\n",
    "for studio in top_ten_studios:\n",
    "    studio_data = top_five_data[top_five_data['studio'] == studio]\n",
    "    plt.plot(studio_data['year'], studio_data['total_gross'], label=studio)\n",
    "\n",
    "# Add labels and title\n",
    "plt.xlabel('Year')\n",
    "plt.ylabel('Total Gross')\n",
    "plt.title('Top five Studios Performance Over the Years')\n",
    "plt.legend()\n",
    "plt.grid(True)\n",
    "plt.show()"
   ]
  },
  {
   "cell_type": "code",
   "execution_count": 415,
   "metadata": {},
   "outputs": [
    {
     "name": "stdout",
     "output_type": "stream",
     "text": [
      "Mean Total Gross by Studio:\n",
      "studio\n",
      "3D       1.600000e+07\n",
      "A23      0.000000e+00\n",
      "A24      8.315317e+07\n",
      "ADC      0.000000e+00\n",
      "AF       1.163750e+06\n",
      "             ...     \n",
      "XL       0.000000e+00\n",
      "YFG      0.000000e+00\n",
      "Yash     3.690431e+07\n",
      "Zee      1.671000e+06\n",
      "Zeit.    2.753650e+06\n",
      "Name: total_gross, Length: 257, dtype: float64\n"
     ]
    }
   ],
   "source": [
    "# Calculate the mean total gross for each studio\n",
    "mean_total_gross_by_studio = studio_yearly_gross.groupby('studio')['total_gross'].mean()\n",
    "\n",
    "# Display the mean total gross for each studio\n",
    "print(\"Mean Total Gross by Studio:\")\n",
    "print(mean_total_gross_by_studio)\n"
   ]
  },
  {
   "cell_type": "code",
   "execution_count": 416,
   "metadata": {},
   "outputs": [
    {
     "name": "stdout",
     "output_type": "stream",
     "text": [
      "<class 'pandas.core.frame.DataFrame'>\n",
      "Index: 2007 entries, 0 to 3353\n",
      "Data columns (total 5 columns):\n",
      " #   Column          Non-Null Count  Dtype  \n",
      "---  ------          --------------  -----  \n",
      " 0   title           2007 non-null   object \n",
      " 1   studio          2007 non-null   object \n",
      " 2   domestic_gross  2007 non-null   float64\n",
      " 3   foreign_gross   2007 non-null   object \n",
      " 4   year            2007 non-null   int64  \n",
      "dtypes: float64(1), int64(1), object(3)\n",
      "memory usage: 94.1+ KB\n"
     ]
    }
   ],
   "source": [
    "df.info()"
   ]
  },
  {
   "cell_type": "markdown",
   "metadata": {},
   "source": [
    "## 2. Individual Analysis of the SQL Database"
   ]
  },
  {
   "cell_type": "markdown",
   "metadata": {},
   "source": [
    "### 2.1 Loading the Database"
   ]
  },
  {
   "cell_type": "markdown",
   "metadata": {},
   "source": [
    "The next step is to load the SQL data base and then work with it. The data base has several tables, from which we can get columns of data. These data sets will be used to create visualization and to drawm inferences that the CEO can use. "
   ]
  },
  {
   "cell_type": "markdown",
   "metadata": {},
   "source": [
    "#### 2.1.1 Let's start by verifying the tables available in the database"
   ]
  },
  {
   "cell_type": "code",
   "execution_count": 417,
   "metadata": {},
   "outputs": [
    {
     "name": "stdout",
     "output_type": "stream",
     "text": [
      "movie_basics\n",
      "directors\n",
      "known_for\n",
      "movie_akas\n",
      "movie_ratings\n",
      "persons\n",
      "principals\n",
      "writers\n",
      "bom\n"
     ]
    }
   ],
   "source": [
    "# Connect to the SQLite database\n",
    "conn = sqlite3.connect('im.db')\n",
    "\n",
    "# Create a cursor object to interact with the database\n",
    "cursor = conn.cursor()\n",
    "\n",
    "# Execute a query to fetch all tables\n",
    "cursor.execute(\"SELECT name FROM sqlite_master WHERE type='table';\")\n",
    "\n",
    "# Fetch all table names\n",
    "tables = cursor.fetchall()\n",
    "\n",
    "# Print the table names\n",
    "for table in tables:\n",
    "    print(table[0])\n"
   ]
  },
  {
   "cell_type": "markdown",
   "metadata": {},
   "source": [
    "#### 2.1.2 Since we are more interested in the movie_basics and the movie_ratings tables, we can have a look a those to see what they contain "
   ]
  },
  {
   "cell_type": "code",
   "execution_count": 418,
   "metadata": {},
   "outputs": [
    {
     "name": "stdout",
     "output_type": "stream",
     "text": [
      "      movie_id  averagerating  numvotes\n",
      "0   tt10356526            8.3        31\n",
      "1   tt10384606            8.9       559\n",
      "2    tt1042974            6.4        20\n",
      "3    tt1043726            4.2     50352\n",
      "4    tt1060240            6.5        21\n",
      "..         ...            ...       ...\n",
      "95   tt1515069            8.3        15\n",
      "96   tt1515208            6.3      1447\n",
      "97   tt1516577            5.3       147\n",
      "98   tt1516595            4.4        64\n",
      "99   tt1517225            7.4      2189\n",
      "\n",
      "[100 rows x 3 columns]\n"
     ]
    }
   ],
   "source": [
    "# Review data in \"movie_ratings\"\n",
    "ratings_data_query = \"\"\"\n",
    "SELECT *\n",
    "FROM movie_ratings;\n",
    "\"\"\"\n",
    "\n",
    "ratings_data = pd.read_sql(ratings_data_query, conn)\n",
    "print(ratings_data.head(100))\n"
   ]
  },
  {
   "cell_type": "code",
   "execution_count": 419,
   "metadata": {},
   "outputs": [
    {
     "name": "stdout",
     "output_type": "stream",
     "text": [
      "     movie_id                          primary_title  \\\n",
      "0   tt0063540                              Sunghursh   \n",
      "1   tt0066787        One Day Before the Rainy Season   \n",
      "2   tt0069049             The Other Side of the Wind   \n",
      "3   tt0069204                        Sabse Bada Sukh   \n",
      "4   tt0100275               The Wandering Soap Opera   \n",
      "..        ...                                    ...   \n",
      "95  tt0429493                             The A-Team   \n",
      "96  tt0430524                            The Rescuer   \n",
      "97  tt0431021                         The Possession   \n",
      "98  tt0432010  The Queen of Sheba Meets the Atom Man   \n",
      "99  tt0433035                             Real Steel   \n",
      "\n",
      "                           original_title  start_year  runtime_minutes  \\\n",
      "0                               Sunghursh        2013            175.0   \n",
      "1                         Ashad Ka Ek Din        2019            114.0   \n",
      "2              The Other Side of the Wind        2018            122.0   \n",
      "3                         Sabse Bada Sukh        2018              NaN   \n",
      "4                   La Telenovela Errante        2017             80.0   \n",
      "..                                    ...         ...              ...   \n",
      "95                             The A-Team        2010            117.0   \n",
      "96                            The Rescuer        2011             84.0   \n",
      "97                         The Possession        2012             92.0   \n",
      "98  The Queen of Sheba Meets the Atom Man        2018            110.0   \n",
      "99                             Real Steel        2011            127.0   \n",
      "\n",
      "                       genres  \n",
      "0          Action,Crime,Drama  \n",
      "1             Biography,Drama  \n",
      "2                       Drama  \n",
      "3                Comedy,Drama  \n",
      "4        Comedy,Drama,Fantasy  \n",
      "..                        ...  \n",
      "95  Action,Adventure,Thriller  \n",
      "96                Documentary  \n",
      "97    Horror,Mystery,Thriller  \n",
      "98                     Comedy  \n",
      "99        Action,Drama,Family  \n",
      "\n",
      "[100 rows x 6 columns]\n"
     ]
    }
   ],
   "source": [
    "# Review data in \"movie_basics\"\n",
    "ratings_data_query = \"\"\"\n",
    "SELECT *\n",
    "FROM movie_basics;\n",
    "\"\"\"\n",
    "\n",
    "ratings_data = pd.read_sql(ratings_data_query, conn)\n",
    "print(ratings_data.head(100))\n"
   ]
  },
  {
   "cell_type": "markdown",
   "metadata": {},
   "source": [
    "#### 2.1.4 From the above, we now know the data contained inside the databases. Therefore we casn proceed to clean the database and get the info that we want."
   ]
  },
  {
   "cell_type": "markdown",
   "metadata": {},
   "source": [
    "### 2.2 Cleaning the Database"
   ]
  },
  {
   "cell_type": "markdown",
   "metadata": {},
   "source": [
    "#### 2.2.1 Cleaning the movie_basics and the movie_ratings database. We want to look for any discpripancies in the data, and any outliers. "
   ]
  },
  {
   "cell_type": "code",
   "execution_count": 420,
   "metadata": {},
   "outputs": [
    {
     "data": {
      "text/html": [
       "<div>\n",
       "<style scoped>\n",
       "    .dataframe tbody tr th:only-of-type {\n",
       "        vertical-align: middle;\n",
       "    }\n",
       "\n",
       "    .dataframe tbody tr th {\n",
       "        vertical-align: top;\n",
       "    }\n",
       "\n",
       "    .dataframe thead th {\n",
       "        text-align: right;\n",
       "    }\n",
       "</style>\n",
       "<table border=\"1\" class=\"dataframe\">\n",
       "  <thead>\n",
       "    <tr style=\"text-align: right;\">\n",
       "      <th></th>\n",
       "      <th>movie_id</th>\n",
       "      <th>averagerating</th>\n",
       "      <th>numvotes</th>\n",
       "    </tr>\n",
       "  </thead>\n",
       "  <tbody>\n",
       "    <tr>\n",
       "      <th>0</th>\n",
       "      <td>tt10356526</td>\n",
       "      <td>8.3</td>\n",
       "      <td>31</td>\n",
       "    </tr>\n",
       "    <tr>\n",
       "      <th>1</th>\n",
       "      <td>tt10384606</td>\n",
       "      <td>8.9</td>\n",
       "      <td>559</td>\n",
       "    </tr>\n",
       "    <tr>\n",
       "      <th>2</th>\n",
       "      <td>tt1042974</td>\n",
       "      <td>6.4</td>\n",
       "      <td>20</td>\n",
       "    </tr>\n",
       "    <tr>\n",
       "      <th>3</th>\n",
       "      <td>tt1043726</td>\n",
       "      <td>4.2</td>\n",
       "      <td>50352</td>\n",
       "    </tr>\n",
       "    <tr>\n",
       "      <th>4</th>\n",
       "      <td>tt1060240</td>\n",
       "      <td>6.5</td>\n",
       "      <td>21</td>\n",
       "    </tr>\n",
       "    <tr>\n",
       "      <th>...</th>\n",
       "      <td>...</td>\n",
       "      <td>...</td>\n",
       "      <td>...</td>\n",
       "    </tr>\n",
       "    <tr>\n",
       "      <th>73851</th>\n",
       "      <td>tt9805820</td>\n",
       "      <td>8.1</td>\n",
       "      <td>25</td>\n",
       "    </tr>\n",
       "    <tr>\n",
       "      <th>73852</th>\n",
       "      <td>tt9844256</td>\n",
       "      <td>7.5</td>\n",
       "      <td>24</td>\n",
       "    </tr>\n",
       "    <tr>\n",
       "      <th>73853</th>\n",
       "      <td>tt9851050</td>\n",
       "      <td>4.7</td>\n",
       "      <td>14</td>\n",
       "    </tr>\n",
       "    <tr>\n",
       "      <th>73854</th>\n",
       "      <td>tt9886934</td>\n",
       "      <td>7.0</td>\n",
       "      <td>5</td>\n",
       "    </tr>\n",
       "    <tr>\n",
       "      <th>73855</th>\n",
       "      <td>tt9894098</td>\n",
       "      <td>6.3</td>\n",
       "      <td>128</td>\n",
       "    </tr>\n",
       "  </tbody>\n",
       "</table>\n",
       "<p>73856 rows × 3 columns</p>\n",
       "</div>"
      ],
      "text/plain": [
       "         movie_id  averagerating  numvotes\n",
       "0      tt10356526            8.3        31\n",
       "1      tt10384606            8.9       559\n",
       "2       tt1042974            6.4        20\n",
       "3       tt1043726            4.2     50352\n",
       "4       tt1060240            6.5        21\n",
       "...           ...            ...       ...\n",
       "73851   tt9805820            8.1        25\n",
       "73852   tt9844256            7.5        24\n",
       "73853   tt9851050            4.7        14\n",
       "73854   tt9886934            7.0         5\n",
       "73855   tt9894098            6.3       128\n",
       "\n",
       "[73856 rows x 3 columns]"
      ]
     },
     "execution_count": 420,
     "metadata": {},
     "output_type": "execute_result"
    }
   ],
   "source": [
    "# Review data in \"movie_ratings\" and see the null values\n",
    "clean_data_query_mr = \"\"\"\n",
    "SELECT *\n",
    "FROM movie_ratings\n",
    "WHERE averagerating IS NOT NULL OR numvotes IS NOT NULL;\n",
    "\"\"\"\n",
    "pd.read_sql(clean_data_query_mr, conn)"
   ]
  },
  {
   "cell_type": "code",
   "execution_count": 421,
   "metadata": {},
   "outputs": [
    {
     "data": {
      "text/html": [
       "<div>\n",
       "<style scoped>\n",
       "    .dataframe tbody tr th:only-of-type {\n",
       "        vertical-align: middle;\n",
       "    }\n",
       "\n",
       "    .dataframe tbody tr th {\n",
       "        vertical-align: top;\n",
       "    }\n",
       "\n",
       "    .dataframe thead th {\n",
       "        text-align: right;\n",
       "    }\n",
       "</style>\n",
       "<table border=\"1\" class=\"dataframe\">\n",
       "  <thead>\n",
       "    <tr style=\"text-align: right;\">\n",
       "      <th></th>\n",
       "      <th>movie_id</th>\n",
       "      <th>primary_title</th>\n",
       "      <th>original_title</th>\n",
       "      <th>start_year</th>\n",
       "      <th>runtime_minutes</th>\n",
       "      <th>genres</th>\n",
       "    </tr>\n",
       "  </thead>\n",
       "  <tbody>\n",
       "    <tr>\n",
       "      <th>0</th>\n",
       "      <td>tt0063540</td>\n",
       "      <td>Sunghursh</td>\n",
       "      <td>Sunghursh</td>\n",
       "      <td>2013</td>\n",
       "      <td>175.0</td>\n",
       "      <td>Action,Crime,Drama</td>\n",
       "    </tr>\n",
       "    <tr>\n",
       "      <th>1</th>\n",
       "      <td>tt0066787</td>\n",
       "      <td>One Day Before the Rainy Season</td>\n",
       "      <td>Ashad Ka Ek Din</td>\n",
       "      <td>2019</td>\n",
       "      <td>114.0</td>\n",
       "      <td>Biography,Drama</td>\n",
       "    </tr>\n",
       "    <tr>\n",
       "      <th>2</th>\n",
       "      <td>tt0069049</td>\n",
       "      <td>The Other Side of the Wind</td>\n",
       "      <td>The Other Side of the Wind</td>\n",
       "      <td>2018</td>\n",
       "      <td>122.0</td>\n",
       "      <td>Drama</td>\n",
       "    </tr>\n",
       "    <tr>\n",
       "      <th>3</th>\n",
       "      <td>tt0100275</td>\n",
       "      <td>The Wandering Soap Opera</td>\n",
       "      <td>La Telenovela Errante</td>\n",
       "      <td>2017</td>\n",
       "      <td>80.0</td>\n",
       "      <td>Comedy,Drama,Fantasy</td>\n",
       "    </tr>\n",
       "    <tr>\n",
       "      <th>4</th>\n",
       "      <td>tt0111414</td>\n",
       "      <td>A Thin Life</td>\n",
       "      <td>A Thin Life</td>\n",
       "      <td>2018</td>\n",
       "      <td>75.0</td>\n",
       "      <td>Comedy</td>\n",
       "    </tr>\n",
       "    <tr>\n",
       "      <th>...</th>\n",
       "      <td>...</td>\n",
       "      <td>...</td>\n",
       "      <td>...</td>\n",
       "      <td>...</td>\n",
       "      <td>...</td>\n",
       "      <td>...</td>\n",
       "    </tr>\n",
       "    <tr>\n",
       "      <th>112228</th>\n",
       "      <td>tt9916160</td>\n",
       "      <td>Drømmeland</td>\n",
       "      <td>Drømmeland</td>\n",
       "      <td>2019</td>\n",
       "      <td>72.0</td>\n",
       "      <td>Documentary</td>\n",
       "    </tr>\n",
       "    <tr>\n",
       "      <th>112229</th>\n",
       "      <td>tt9916170</td>\n",
       "      <td>The Rehearsal</td>\n",
       "      <td>O Ensaio</td>\n",
       "      <td>2019</td>\n",
       "      <td>51.0</td>\n",
       "      <td>Drama</td>\n",
       "    </tr>\n",
       "    <tr>\n",
       "      <th>112230</th>\n",
       "      <td>tt9916186</td>\n",
       "      <td>Illenau - die Geschichte einer ehemaligen Heil...</td>\n",
       "      <td>Illenau - die Geschichte einer ehemaligen Heil...</td>\n",
       "      <td>2017</td>\n",
       "      <td>84.0</td>\n",
       "      <td>Documentary</td>\n",
       "    </tr>\n",
       "    <tr>\n",
       "      <th>112231</th>\n",
       "      <td>tt9916190</td>\n",
       "      <td>Safeguard</td>\n",
       "      <td>Safeguard</td>\n",
       "      <td>2019</td>\n",
       "      <td>90.0</td>\n",
       "      <td>Drama,Thriller</td>\n",
       "    </tr>\n",
       "    <tr>\n",
       "      <th>112232</th>\n",
       "      <td>tt9916538</td>\n",
       "      <td>Kuambil Lagi Hatiku</td>\n",
       "      <td>Kuambil Lagi Hatiku</td>\n",
       "      <td>2019</td>\n",
       "      <td>123.0</td>\n",
       "      <td>Drama</td>\n",
       "    </tr>\n",
       "  </tbody>\n",
       "</table>\n",
       "<p>112233 rows × 6 columns</p>\n",
       "</div>"
      ],
      "text/plain": [
       "         movie_id                                      primary_title  \\\n",
       "0       tt0063540                                          Sunghursh   \n",
       "1       tt0066787                    One Day Before the Rainy Season   \n",
       "2       tt0069049                         The Other Side of the Wind   \n",
       "3       tt0100275                           The Wandering Soap Opera   \n",
       "4       tt0111414                                        A Thin Life   \n",
       "...           ...                                                ...   \n",
       "112228  tt9916160                                         Drømmeland   \n",
       "112229  tt9916170                                      The Rehearsal   \n",
       "112230  tt9916186  Illenau - die Geschichte einer ehemaligen Heil...   \n",
       "112231  tt9916190                                          Safeguard   \n",
       "112232  tt9916538                                Kuambil Lagi Hatiku   \n",
       "\n",
       "                                           original_title  start_year  \\\n",
       "0                                               Sunghursh        2013   \n",
       "1                                         Ashad Ka Ek Din        2019   \n",
       "2                              The Other Side of the Wind        2018   \n",
       "3                                   La Telenovela Errante        2017   \n",
       "4                                             A Thin Life        2018   \n",
       "...                                                   ...         ...   \n",
       "112228                                         Drømmeland        2019   \n",
       "112229                                           O Ensaio        2019   \n",
       "112230  Illenau - die Geschichte einer ehemaligen Heil...        2017   \n",
       "112231                                          Safeguard        2019   \n",
       "112232                                Kuambil Lagi Hatiku        2019   \n",
       "\n",
       "        runtime_minutes                genres  \n",
       "0                 175.0    Action,Crime,Drama  \n",
       "1                 114.0       Biography,Drama  \n",
       "2                 122.0                 Drama  \n",
       "3                  80.0  Comedy,Drama,Fantasy  \n",
       "4                  75.0                Comedy  \n",
       "...                 ...                   ...  \n",
       "112228             72.0           Documentary  \n",
       "112229             51.0                 Drama  \n",
       "112230             84.0           Documentary  \n",
       "112231             90.0        Drama,Thriller  \n",
       "112232            123.0                 Drama  \n",
       "\n",
       "[112233 rows x 6 columns]"
      ]
     },
     "execution_count": 421,
     "metadata": {},
     "output_type": "execute_result"
    }
   ],
   "source": [
    "# Review data in \"movie_basics\" and clean out the null values\n",
    "clean_data_query_mb= \"\"\"\n",
    "SELECT *\n",
    "FROM movie_basics\n",
    "WHERE runtime_minutes IS NOT NULL AND genres IS NOT NULL AND start_year IS NOT NULL;\n",
    "\"\"\"\n",
    "pd.read_sql(clean_data_query_mb, conn)"
   ]
  },
  {
   "cell_type": "markdown",
   "metadata": {},
   "source": [
    "### 2.3 Analysis and Visualization\n"
   ]
  },
  {
   "cell_type": "markdown",
   "metadata": {},
   "source": [
    "#### 2.3.1 Now let's start analysing each table and see the inference that we can draw from it. "
   ]
  },
  {
   "cell_type": "code",
   "execution_count": 422,
   "metadata": {},
   "outputs": [
    {
     "name": "stdout",
     "output_type": "stream",
     "text": [
      "3523.6621669194105\n"
     ]
    }
   ],
   "source": [
    "mean_numvotes_query = \"SELECT AVG(numvotes) as mean_numvotes FROM movie_ratings\"\n",
    "mean_numvotes = pd.read_sql_query(mean_numvotes_query, conn)['mean_numvotes'][0]\n",
    "print(mean_numvotes)"
   ]
  },
  {
   "cell_type": "code",
   "execution_count": 423,
   "metadata": {},
   "outputs": [
    {
     "data": {
      "text/html": [
       "<div>\n",
       "<style scoped>\n",
       "    .dataframe tbody tr th:only-of-type {\n",
       "        vertical-align: middle;\n",
       "    }\n",
       "\n",
       "    .dataframe tbody tr th {\n",
       "        vertical-align: top;\n",
       "    }\n",
       "\n",
       "    .dataframe thead th {\n",
       "        text-align: right;\n",
       "    }\n",
       "</style>\n",
       "<table border=\"1\" class=\"dataframe\">\n",
       "  <thead>\n",
       "    <tr style=\"text-align: right;\">\n",
       "      <th></th>\n",
       "      <th>genres</th>\n",
       "      <th>runtime_minutes</th>\n",
       "      <th>start_year</th>\n",
       "      <th>averagerating</th>\n",
       "      <th>numvotes</th>\n",
       "    </tr>\n",
       "  </thead>\n",
       "  <tbody>\n",
       "    <tr>\n",
       "      <th>0</th>\n",
       "      <td>Comedy,Drama</td>\n",
       "      <td>159.0</td>\n",
       "      <td>2019</td>\n",
       "      <td>9.7</td>\n",
       "      <td>5600</td>\n",
       "    </tr>\n",
       "    <tr>\n",
       "      <th>1</th>\n",
       "      <td>Drama,History</td>\n",
       "      <td>113.0</td>\n",
       "      <td>2017</td>\n",
       "      <td>9.5</td>\n",
       "      <td>6509</td>\n",
       "    </tr>\n",
       "    <tr>\n",
       "      <th>2</th>\n",
       "      <td>Drama</td>\n",
       "      <td>147.0</td>\n",
       "      <td>2018</td>\n",
       "      <td>9.4</td>\n",
       "      <td>9629</td>\n",
       "    </tr>\n",
       "    <tr>\n",
       "      <th>3</th>\n",
       "      <td>Action,Drama,War</td>\n",
       "      <td>135.0</td>\n",
       "      <td>2016</td>\n",
       "      <td>9.3</td>\n",
       "      <td>100568</td>\n",
       "    </tr>\n",
       "    <tr>\n",
       "      <th>4</th>\n",
       "      <td>Crime,Mystery,Thriller</td>\n",
       "      <td>147.0</td>\n",
       "      <td>2016</td>\n",
       "      <td>9.3</td>\n",
       "      <td>18470</td>\n",
       "    </tr>\n",
       "    <tr>\n",
       "      <th>5</th>\n",
       "      <td>Drama</td>\n",
       "      <td>115.0</td>\n",
       "      <td>2014</td>\n",
       "      <td>9.3</td>\n",
       "      <td>17308</td>\n",
       "    </tr>\n",
       "    <tr>\n",
       "      <th>6</th>\n",
       "      <td>Drama,Family</td>\n",
       "      <td>166.0</td>\n",
       "      <td>2016</td>\n",
       "      <td>9.2</td>\n",
       "      <td>4297</td>\n",
       "    </tr>\n",
       "    <tr>\n",
       "      <th>7</th>\n",
       "      <td>Comedy,Documentary</td>\n",
       "      <td>139.0</td>\n",
       "      <td>2013</td>\n",
       "      <td>9.2</td>\n",
       "      <td>41560</td>\n",
       "    </tr>\n",
       "    <tr>\n",
       "      <th>8</th>\n",
       "      <td>Drama</td>\n",
       "      <td>102.0</td>\n",
       "      <td>2018</td>\n",
       "      <td>9.1</td>\n",
       "      <td>4162</td>\n",
       "    </tr>\n",
       "    <tr>\n",
       "      <th>9</th>\n",
       "      <td>Drama</td>\n",
       "      <td>154.0</td>\n",
       "      <td>2018</td>\n",
       "      <td>9.0</td>\n",
       "      <td>4854</td>\n",
       "    </tr>\n",
       "    <tr>\n",
       "      <th>10</th>\n",
       "      <td>Biography,Crime,Documentary</td>\n",
       "      <td>467.0</td>\n",
       "      <td>2016</td>\n",
       "      <td>8.9</td>\n",
       "      <td>14946</td>\n",
       "    </tr>\n",
       "    <tr>\n",
       "      <th>11</th>\n",
       "      <td>Drama,Music,Musical</td>\n",
       "      <td>178.0</td>\n",
       "      <td>2010</td>\n",
       "      <td>8.8</td>\n",
       "      <td>4583</td>\n",
       "    </tr>\n",
       "    <tr>\n",
       "      <th>12</th>\n",
       "      <td>Crime,Drama,Thriller</td>\n",
       "      <td>160.0</td>\n",
       "      <td>2013</td>\n",
       "      <td>8.8</td>\n",
       "      <td>24326</td>\n",
       "    </tr>\n",
       "    <tr>\n",
       "      <th>13</th>\n",
       "      <td>Action,Crime,Thriller</td>\n",
       "      <td>170.0</td>\n",
       "      <td>2018</td>\n",
       "      <td>8.8</td>\n",
       "      <td>10518</td>\n",
       "    </tr>\n",
       "    <tr>\n",
       "      <th>14</th>\n",
       "      <td>Drama</td>\n",
       "      <td>130.0</td>\n",
       "      <td>2016</td>\n",
       "      <td>8.8</td>\n",
       "      <td>8277</td>\n",
       "    </tr>\n",
       "    <tr>\n",
       "      <th>15</th>\n",
       "      <td>Drama,Music,Musical</td>\n",
       "      <td>137.0</td>\n",
       "      <td>2011</td>\n",
       "      <td>8.8</td>\n",
       "      <td>5926</td>\n",
       "    </tr>\n",
       "    <tr>\n",
       "      <th>16</th>\n",
       "      <td>Drama,Romance</td>\n",
       "      <td>158.0</td>\n",
       "      <td>2018</td>\n",
       "      <td>8.8</td>\n",
       "      <td>10903</td>\n",
       "    </tr>\n",
       "    <tr>\n",
       "      <th>17</th>\n",
       "      <td>Action,Adventure,Sci-Fi</td>\n",
       "      <td>181.0</td>\n",
       "      <td>2019</td>\n",
       "      <td>8.8</td>\n",
       "      <td>441135</td>\n",
       "    </tr>\n",
       "    <tr>\n",
       "      <th>18</th>\n",
       "      <td>Action,Adventure,Sci-Fi</td>\n",
       "      <td>148.0</td>\n",
       "      <td>2010</td>\n",
       "      <td>8.8</td>\n",
       "      <td>1841066</td>\n",
       "    </tr>\n",
       "    <tr>\n",
       "      <th>19</th>\n",
       "      <td>Action,Crime</td>\n",
       "      <td>164.0</td>\n",
       "      <td>2018</td>\n",
       "      <td>8.7</td>\n",
       "      <td>6217</td>\n",
       "    </tr>\n",
       "  </tbody>\n",
       "</table>\n",
       "</div>"
      ],
      "text/plain": [
       "                         genres  runtime_minutes  start_year  averagerating  \\\n",
       "0                  Comedy,Drama            159.0        2019            9.7   \n",
       "1                 Drama,History            113.0        2017            9.5   \n",
       "2                         Drama            147.0        2018            9.4   \n",
       "3              Action,Drama,War            135.0        2016            9.3   \n",
       "4        Crime,Mystery,Thriller            147.0        2016            9.3   \n",
       "5                         Drama            115.0        2014            9.3   \n",
       "6                  Drama,Family            166.0        2016            9.2   \n",
       "7            Comedy,Documentary            139.0        2013            9.2   \n",
       "8                         Drama            102.0        2018            9.1   \n",
       "9                         Drama            154.0        2018            9.0   \n",
       "10  Biography,Crime,Documentary            467.0        2016            8.9   \n",
       "11          Drama,Music,Musical            178.0        2010            8.8   \n",
       "12         Crime,Drama,Thriller            160.0        2013            8.8   \n",
       "13        Action,Crime,Thriller            170.0        2018            8.8   \n",
       "14                        Drama            130.0        2016            8.8   \n",
       "15          Drama,Music,Musical            137.0        2011            8.8   \n",
       "16                Drama,Romance            158.0        2018            8.8   \n",
       "17      Action,Adventure,Sci-Fi            181.0        2019            8.8   \n",
       "18      Action,Adventure,Sci-Fi            148.0        2010            8.8   \n",
       "19                 Action,Crime            164.0        2018            8.7   \n",
       "\n",
       "    numvotes  \n",
       "0       5600  \n",
       "1       6509  \n",
       "2       9629  \n",
       "3     100568  \n",
       "4      18470  \n",
       "5      17308  \n",
       "6       4297  \n",
       "7      41560  \n",
       "8       4162  \n",
       "9       4854  \n",
       "10     14946  \n",
       "11      4583  \n",
       "12     24326  \n",
       "13     10518  \n",
       "14      8277  \n",
       "15      5926  \n",
       "16     10903  \n",
       "17    441135  \n",
       "18   1841066  \n",
       "19      6217  "
      ]
     },
     "execution_count": 423,
     "metadata": {},
     "output_type": "execute_result"
    }
   ],
   "source": [
    "\n",
    "data_query= \"\"\"\n",
    "SELECT genres, runtime_minutes, start_year, averagerating, numvotes\n",
    "FROM movie_basics mb\n",
    "INNER JOIN movie_ratings mr\n",
    "ON mb.movie_id = mr.movie_id\n",
    "WHERE numvotes>=3523.6621669194105 AND averagerating> 5\n",
    "ORDER BY averagerating DESC\n",
    "LIMIT 20\n",
    "\"\"\"\n",
    "pd.read_sql(data_query,conn)"
   ]
  },
  {
   "cell_type": "code",
   "execution_count": 424,
   "metadata": {},
   "outputs": [
    {
     "name": "stderr",
     "output_type": "stream",
     "text": [
      "C:\\Users\\PC\\AppData\\Local\\Temp\\ipykernel_15388\\193998322.py:23: FutureWarning: \n",
      "\n",
      "Passing `palette` without assigning `hue` is deprecated and will be removed in v0.14.0. Assign the `y` variable to `hue` and set `legend=False` for the same effect.\n",
      "\n",
      "  sns.barplot(x='avg_rating', y='genres', data=df, palette='viridis')\n"
     ]
    },
    {
     "data": {
      "image/png": "[encoded data removed]",
      "text/plain": [
       "<Figure size 1200x600 with 1 Axes>"
      ]
     },
     "metadata": {},
     "output_type": "display_data"
    }
   ],
   "source": [
    "\n",
    "fourth_query = \"\"\"\n",
    "SELECT \n",
    "    mb.genres,\n",
    "    AVG(mr.averagerating) AS avg_rating\n",
    "FROM \n",
    "    movie_basics mb\n",
    "INNER JOIN \n",
    "    movie_ratings mr ON mb.movie_id = mr.movie_id\n",
    "WHERE \n",
    "    mr.numvotes >= 3523.6621669194105 AND mr.averagerating > 5\n",
    "GROUP BY\n",
    "    mb.genres\n",
    "ORDER BY \n",
    "    avg_rating DESC\n",
    "LIMIT 20\n",
    "\"\"\"\n",
    "\n",
    "# Load data into a pandas DataFrame\n",
    "df = pd.read_sql_query(fourth_query, conn)\n",
    "\n",
    "# Plot the relationship between genres and averagerating\n",
    "plt.figure(figsize=(12, 6))\n",
    "sns.barplot(x='avg_rating', y='genres', data=df, palette='viridis')\n",
    "plt.title('Average Rating by Genres')\n",
    "plt.xlabel('Average Rating')\n",
    "plt.ylabel('Genres')\n",
    "plt.show()\n",
    "\n"
   ]
  },
  {
   "cell_type": "code",
   "execution_count": 425,
   "metadata": {},
   "outputs": [
    {
     "name": "stdout",
     "output_type": "stream",
     "text": [
      "Correlation between runtime_minutes and averagerating: -0.22880738510273765\n"
     ]
    },
    {
     "data": {
      "image/png": "[encoded data removed]",
      "text/plain": [
       "<Figure size 1000x600 with 1 Axes>"
      ]
     },
     "metadata": {},
     "output_type": "display_data"
    }
   ],
   "source": [
    "import seaborn as sns\n",
    "# Load data into a pandas DataFrame\n",
    "df = pd.read_sql_query(data_query, conn)\n",
    "\n",
    "# Calculate correlation between 'runtime_minutes' and 'averagerating'\n",
    "correlation = df['runtime_minutes'].corr(df['averagerating'])\n",
    "\n",
    "# Print correlation coefficient\n",
    "print(f\"Correlation between runtime_minutes and averagerating: {correlation}\")\n",
    "\n",
    "# Draw a scatter plot\n",
    "plt.figure(figsize=(10, 6))\n",
    "sns.scatterplot(x='runtime_minutes', y='averagerating', data=df)\n",
    "plt.title('Scatter Plot: Runtime vs Average Rating')\n",
    "plt.xlabel('Runtime (minutes)')\n",
    "plt.ylabel('Average Rating')\n",
    "plt.show()"
   ]
  },
  {
   "cell_type": "code",
   "execution_count": null,
   "metadata": {},
   "outputs": [],
   "source": []
  },
  {
   "cell_type": "markdown",
   "metadata": {},
   "source": [
    "### 2.4 Drawing Inferences from the database"
   ]
  },
  {
   "cell_type": "markdown",
   "metadata": {},
   "source": [
    "## 3. Analysis of the CSV and SQL database together"
   ]
  },
  {
   "cell_type": "markdown",
   "metadata": {},
   "source": [
    "### 3.1 Loading the database by joining them"
   ]
  },
  {
   "cell_type": "code",
   "execution_count": 426,
   "metadata": {},
   "outputs": [
    {
     "name": "stdout",
     "output_type": "stream",
     "text": [
      "                                            title      studio domestic_gross  \\\n",
      "0                                     Toy Story 3          BV    415000000.0   \n",
      "1                      Alice in Wonderland (2010)          BV    334200000.0   \n",
      "2     Harry Potter and the Deathly Hallows Part 1          WB    296000000.0   \n",
      "3                                       Inception          WB    292600000.0   \n",
      "4                             Shrek Forever After        P/DW    238700000.0   \n",
      "...                                           ...         ...            ...   \n",
      "3382                                    The Quake       Magn.         6200.0   \n",
      "3383                  Edward II (2018 re-release)          FM         4800.0   \n",
      "3384                                     El Pacto        Sony         2500.0   \n",
      "3385                                     The Swan  Synergetic         2400.0   \n",
      "3386                            An Actor Prepares       Grav.         1700.0   \n",
      "\n",
      "     foreign_gross  year   total_gross  \n",
      "0        652000000  2010  1.067000e+09  \n",
      "1        691300000  2010  1.025500e+09  \n",
      "2        664300000  2010  9.603000e+08  \n",
      "3        535700000  2010  8.283000e+08  \n",
      "4        513900000  2010  7.526000e+08  \n",
      "...            ...   ...           ...  \n",
      "3382           nan  2018           NaN  \n",
      "3383           nan  2018           NaN  \n",
      "3384           nan  2018           NaN  \n",
      "3385           nan  2018           NaN  \n",
      "3386           nan  2018           NaN  \n",
      "\n",
      "[3387 rows x 6 columns]\n"
     ]
    }
   ],
   "source": [
    "from sqlalchemy import create_engine\n",
    "\n",
    "# Replace 'your_database' and 'your_table' with the actual database and table names\n",
    "table_name = 'bom'\n",
    "df = cleaned_data\n",
    "\n",
    "# Connect to the SQL database using SQLAlchemy\n",
    "engine = create_engine('sqlite:///im.db')  # Replace with your actual database connection string\n",
    "\n",
    "# Write the DataFrame to the SQL database\n",
    "df.to_sql(table_name, engine, index=False, if_exists='replace')  # Change 'replace' to 'append' if needed\n",
    "\n",
    "# Verify the data in the SQL table\n",
    "sql_query = f'SELECT * FROM {table_name}'\n",
    "df_from_sql = pd.read_sql(sql_query, engine)\n",
    "\n",
    "# Display the DataFrame from SQL\n",
    "print(df_from_sql)\n"
   ]
  },
  {
   "cell_type": "code",
   "execution_count": 440,
   "metadata": {},
   "outputs": [],
   "source": [
    "joined_query = \"\"\" \n",
    "SELECT mb.*, bom.*\n",
    "FROM movie_basics mb\n",
    "INNER JOIN bom\n",
    "ON (mb.primary_title = bom.title OR mb.original_title = bom.title)\n",
    "   AND mb.start_year = bom.year\n",
    "INNER JOIN movie_ratings mr\n",
    "ON mb.movie_id = mr.movie_id\n",
    "WHERE numvotes>=3523.6621669194105 AND averagerating>6.5 AND domestic_gross >0 \n",
    "\n",
    "LIMIT 100;\n",
    "\"\"\"\n"
   ]
  },
  {
   "cell_type": "markdown",
   "metadata": {},
   "source": [
    "### 3.2 Cleaning the database"
   ]
  },
  {
   "cell_type": "code",
   "execution_count": 441,
   "metadata": {},
   "outputs": [
    {
     "data": {
      "text/html": [
       "<div>\n",
       "<style scoped>\n",
       "    .dataframe tbody tr th:only-of-type {\n",
       "        vertical-align: middle;\n",
       "    }\n",
       "\n",
       "    .dataframe tbody tr th {\n",
       "        vertical-align: top;\n",
       "    }\n",
       "\n",
       "    .dataframe thead th {\n",
       "        text-align: right;\n",
       "    }\n",
       "</style>\n",
       "<table border=\"1\" class=\"dataframe\">\n",
       "  <thead>\n",
       "    <tr style=\"text-align: right;\">\n",
       "      <th></th>\n",
       "      <th>movie_id</th>\n",
       "      <th>primary_title</th>\n",
       "      <th>original_title</th>\n",
       "      <th>start_year</th>\n",
       "      <th>runtime_minutes</th>\n",
       "      <th>genres</th>\n",
       "      <th>title</th>\n",
       "      <th>studio</th>\n",
       "      <th>domestic_gross</th>\n",
       "      <th>foreign_gross</th>\n",
       "      <th>year</th>\n",
       "      <th>total_gross</th>\n",
       "    </tr>\n",
       "  </thead>\n",
       "  <tbody>\n",
       "    <tr>\n",
       "      <th>0</th>\n",
       "      <td>tt1210166</td>\n",
       "      <td>Moneyball</td>\n",
       "      <td>Moneyball</td>\n",
       "      <td>2011</td>\n",
       "      <td>133.0</td>\n",
       "      <td>Biography,Drama,Sport</td>\n",
       "      <td>Moneyball</td>\n",
       "      <td>Sony</td>\n",
       "      <td>75600000.0</td>\n",
       "      <td>34600000</td>\n",
       "      <td>2011</td>\n",
       "      <td>110200000.0</td>\n",
       "    </tr>\n",
       "    <tr>\n",
       "      <th>1</th>\n",
       "      <td>tt1229238</td>\n",
       "      <td>Mission: Impossible - Ghost Protocol</td>\n",
       "      <td>Mission: Impossible - Ghost Protocol</td>\n",
       "      <td>2011</td>\n",
       "      <td>132.0</td>\n",
       "      <td>Action,Adventure,Thriller</td>\n",
       "      <td>Mission: Impossible - Ghost Protocol</td>\n",
       "      <td>Par.</td>\n",
       "      <td>209400000.0</td>\n",
       "      <td>485300000</td>\n",
       "      <td>2011</td>\n",
       "      <td>694700000.0</td>\n",
       "    </tr>\n",
       "    <tr>\n",
       "      <th>2</th>\n",
       "      <td>tt1232829</td>\n",
       "      <td>21 Jump Street</td>\n",
       "      <td>21 Jump Street</td>\n",
       "      <td>2012</td>\n",
       "      <td>109.0</td>\n",
       "      <td>Action,Comedy,Crime</td>\n",
       "      <td>21 Jump Street</td>\n",
       "      <td>Sony</td>\n",
       "      <td>138400000.0</td>\n",
       "      <td>63100000</td>\n",
       "      <td>2012</td>\n",
       "      <td>201500000.0</td>\n",
       "    </tr>\n",
       "    <tr>\n",
       "      <th>3</th>\n",
       "      <td>tt1403981</td>\n",
       "      <td>Remember Me</td>\n",
       "      <td>Remember Me</td>\n",
       "      <td>2010</td>\n",
       "      <td>113.0</td>\n",
       "      <td>Drama,Romance</td>\n",
       "      <td>Remember Me</td>\n",
       "      <td>Sum.</td>\n",
       "      <td>19100000.0</td>\n",
       "      <td>37000000</td>\n",
       "      <td>2010</td>\n",
       "      <td>56100000.0</td>\n",
       "    </tr>\n",
       "    <tr>\n",
       "      <th>4</th>\n",
       "      <td>tt1499658</td>\n",
       "      <td>Horrible Bosses</td>\n",
       "      <td>Horrible Bosses</td>\n",
       "      <td>2011</td>\n",
       "      <td>98.0</td>\n",
       "      <td>Comedy,Crime</td>\n",
       "      <td>Horrible Bosses</td>\n",
       "      <td>WB (NL)</td>\n",
       "      <td>117500000.0</td>\n",
       "      <td>92100000</td>\n",
       "      <td>2011</td>\n",
       "      <td>209600000.0</td>\n",
       "    </tr>\n",
       "    <tr>\n",
       "      <th>...</th>\n",
       "      <td>...</td>\n",
       "      <td>...</td>\n",
       "      <td>...</td>\n",
       "      <td>...</td>\n",
       "      <td>...</td>\n",
       "      <td>...</td>\n",
       "      <td>...</td>\n",
       "      <td>...</td>\n",
       "      <td>...</td>\n",
       "      <td>...</td>\n",
       "      <td>...</td>\n",
       "      <td>...</td>\n",
       "    </tr>\n",
       "    <tr>\n",
       "      <th>95</th>\n",
       "      <td>tt0401729</td>\n",
       "      <td>John Carter</td>\n",
       "      <td>John Carter</td>\n",
       "      <td>2012</td>\n",
       "      <td>132.0</td>\n",
       "      <td>Action,Adventure,Sci-Fi</td>\n",
       "      <td>John Carter</td>\n",
       "      <td>BV</td>\n",
       "      <td>73100000.0</td>\n",
       "      <td>211100000</td>\n",
       "      <td>2012</td>\n",
       "      <td>284200000.0</td>\n",
       "    </tr>\n",
       "    <tr>\n",
       "      <th>96</th>\n",
       "      <td>tt1139328</td>\n",
       "      <td>The Ghost Writer</td>\n",
       "      <td>The Ghost Writer</td>\n",
       "      <td>2010</td>\n",
       "      <td>128.0</td>\n",
       "      <td>Drama,Mystery,Thriller</td>\n",
       "      <td>The Ghost Writer</td>\n",
       "      <td>Sum.</td>\n",
       "      <td>15500000.0</td>\n",
       "      <td>44700000</td>\n",
       "      <td>2010</td>\n",
       "      <td>60200000.0</td>\n",
       "    </tr>\n",
       "    <tr>\n",
       "      <th>97</th>\n",
       "      <td>tt1194173</td>\n",
       "      <td>The Bourne Legacy</td>\n",
       "      <td>The Bourne Legacy</td>\n",
       "      <td>2012</td>\n",
       "      <td>135.0</td>\n",
       "      <td>Action,Adventure,Thriller</td>\n",
       "      <td>The Bourne Legacy</td>\n",
       "      <td>Uni.</td>\n",
       "      <td>113200000.0</td>\n",
       "      <td>162900000</td>\n",
       "      <td>2012</td>\n",
       "      <td>276100000.0</td>\n",
       "    </tr>\n",
       "    <tr>\n",
       "      <th>98</th>\n",
       "      <td>tt1219289</td>\n",
       "      <td>Limitless</td>\n",
       "      <td>Limitless</td>\n",
       "      <td>2011</td>\n",
       "      <td>105.0</td>\n",
       "      <td>Mystery,Sci-Fi,Thriller</td>\n",
       "      <td>Limitless</td>\n",
       "      <td>Rela.</td>\n",
       "      <td>79200000.0</td>\n",
       "      <td>82600000</td>\n",
       "      <td>2011</td>\n",
       "      <td>161800000.0</td>\n",
       "    </tr>\n",
       "    <tr>\n",
       "      <th>99</th>\n",
       "      <td>tt1223236</td>\n",
       "      <td>African Cats</td>\n",
       "      <td>African Cats</td>\n",
       "      <td>2011</td>\n",
       "      <td>89.0</td>\n",
       "      <td>Adventure,Documentary</td>\n",
       "      <td>African Cats</td>\n",
       "      <td>BV</td>\n",
       "      <td>15400000.0</td>\n",
       "      <td>15400000</td>\n",
       "      <td>2011</td>\n",
       "      <td>30800000.0</td>\n",
       "    </tr>\n",
       "  </tbody>\n",
       "</table>\n",
       "<p>100 rows × 12 columns</p>\n",
       "</div>"
      ],
      "text/plain": [
       "     movie_id                         primary_title  \\\n",
       "0   tt1210166                             Moneyball   \n",
       "1   tt1229238  Mission: Impossible - Ghost Protocol   \n",
       "2   tt1232829                        21 Jump Street   \n",
       "3   tt1403981                           Remember Me   \n",
       "4   tt1499658                       Horrible Bosses   \n",
       "..        ...                                   ...   \n",
       "95  tt0401729                           John Carter   \n",
       "96  tt1139328                      The Ghost Writer   \n",
       "97  tt1194173                     The Bourne Legacy   \n",
       "98  tt1219289                             Limitless   \n",
       "99  tt1223236                          African Cats   \n",
       "\n",
       "                          original_title  start_year  runtime_minutes  \\\n",
       "0                              Moneyball        2011            133.0   \n",
       "1   Mission: Impossible - Ghost Protocol        2011            132.0   \n",
       "2                         21 Jump Street        2012            109.0   \n",
       "3                            Remember Me        2010            113.0   \n",
       "4                        Horrible Bosses        2011             98.0   \n",
       "..                                   ...         ...              ...   \n",
       "95                           John Carter        2012            132.0   \n",
       "96                      The Ghost Writer        2010            128.0   \n",
       "97                     The Bourne Legacy        2012            135.0   \n",
       "98                             Limitless        2011            105.0   \n",
       "99                          African Cats        2011             89.0   \n",
       "\n",
       "                       genres                                 title   studio  \\\n",
       "0       Biography,Drama,Sport                             Moneyball     Sony   \n",
       "1   Action,Adventure,Thriller  Mission: Impossible - Ghost Protocol     Par.   \n",
       "2         Action,Comedy,Crime                        21 Jump Street     Sony   \n",
       "3               Drama,Romance                           Remember Me     Sum.   \n",
       "4                Comedy,Crime                       Horrible Bosses  WB (NL)   \n",
       "..                        ...                                   ...      ...   \n",
       "95    Action,Adventure,Sci-Fi                           John Carter       BV   \n",
       "96     Drama,Mystery,Thriller                      The Ghost Writer     Sum.   \n",
       "97  Action,Adventure,Thriller                     The Bourne Legacy     Uni.   \n",
       "98    Mystery,Sci-Fi,Thriller                             Limitless    Rela.   \n",
       "99      Adventure,Documentary                          African Cats       BV   \n",
       "\n",
       "   domestic_gross foreign_gross  year  total_gross  \n",
       "0      75600000.0      34600000  2011  110200000.0  \n",
       "1     209400000.0     485300000  2011  694700000.0  \n",
       "2     138400000.0      63100000  2012  201500000.0  \n",
       "3      19100000.0      37000000  2010   56100000.0  \n",
       "4     117500000.0      92100000  2011  209600000.0  \n",
       "..            ...           ...   ...          ...  \n",
       "95     73100000.0     211100000  2012  284200000.0  \n",
       "96     15500000.0      44700000  2010   60200000.0  \n",
       "97    113200000.0     162900000  2012  276100000.0  \n",
       "98     79200000.0      82600000  2011  161800000.0  \n",
       "99     15400000.0      15400000  2011   30800000.0  \n",
       "\n",
       "[100 rows x 12 columns]"
      ]
     },
     "execution_count": 441,
     "metadata": {},
     "output_type": "execute_result"
    }
   ],
   "source": [
    "pd.read_sql(joined_query, conn)"
   ]
  },
  {
   "cell_type": "code",
   "execution_count": null,
   "metadata": {},
   "outputs": [],
   "source": []
  },
  {
   "cell_type": "markdown",
   "metadata": {},
   "source": [
    "### 3.3 Ananlysis and Visualization"
   ]
  },
  {
   "cell_type": "markdown",
   "metadata": {},
   "source": [
    "### 3.4 Drawing Inferences from the databases"
   ]
  }
 ],
 "metadata": {
  "kernelspec": {
   "display_name": "learn-env",
   "language": "python",
   "name": "python3"
  },
  "language_info": {
   "codemirror_mode": {
    "name": "ipython",
    "version": 3
   },
   "file_extension": ".py",
   "mimetype": "text/x-python",
   "name": "python",
   "nbconvert_exporter": "python",
   "pygments_lexer": "ipython3",
   "version": "3.10.13"
  }
 },
 "nbformat": 4,
 "nbformat_minor": 2
}
