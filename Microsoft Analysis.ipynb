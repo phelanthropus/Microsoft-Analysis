{
 "cells": [
  {
   "cell_type": "markdown",
   "metadata": {},
   "source": [
    "## PHASE ONE PROJECT: Analysis of Movie Performance Over Time\n",
    "\n",
    "# Introduction\n",
    "In the realm of entertainment innovation, Microsoft is on the verge of establishing a pioneering movie studio. As the designated analyst for this pivotal initiative, the goal is to decipher the intricate dynamics of successful contemporary films. Armed with comprehensive data encompassing movie titles, revenue metrics, studio affiliations, runtimes, genres, and audience ratings, the analysis aims to distill actionable insights. These findings will serve as a strategic compass, empowering Microsoft's movie studio to produce content that resonates with audiences and maximizes box office success. This exploration is a proactive step towards seamlessly integrating Microsoft into the dynamic realm of original content creation.\n",
    "# Explain the real-world problem the project aims to solve.\n",
    "This project addresses Microsoft's entry into original content creation within the film industry, focusing on establishing a successful movie studio. The real-world problem involves deciphering the key factors contributing to the success of contemporary films. By analyzing data on movie titles, revenue metrics, studio affiliations, runtimes, genres, and audience ratings, the goal is to provide actionable insights. The project aims to empower Microsoft with strategic knowledge, enabling informed decisions and a distinctive presence in the dynamic realm of original content creation.\n",
    "# Identify stakeholders and how they would use the project.\n",
    "Stakeholders in this project include Microsoft executives, creative teams involved in film production, and marketing teams tasked with promoting the studio's content. Microsoft executives would leverage the project to make informed decisions on the types of films to produce, aligning with market trends. Creative teams would utilize the insights to tailor their film concepts to genres and characteristics that resonate with audiences, increasing the likelihood of success. Marketing teams would benefit by understanding the preferences and trends that drive box office success, allowing them to develop targeted promotional strategies for the studio's films.\n",
    "\n",
    "\n"
   ]
  },
  {
   "cell_type": "markdown",
   "metadata": {},
   "source": [
    "# Explaining the data set \n",
    "The dataset for this analysis comprises two key sources. The first is a CSV file containing information on movie titles, domestic gross, foreign gross, studio affiliations, and release years. This dataset offers insights into the financial performance and distribution of films over time. The second source is an SQL database providing details on movie runtimes, genres, average ratings, and the number of votes received. This database enriches the analysis with information about the content and audience reception of the films. The combined dataset equips us with a comprehensive view of both the financial and qualitative aspects of movie production, facilitating a holistic exploration of the factors influencing box office success."
   ]
  },
  {
   "cell_type": "markdown",
   "metadata": {},
   "source": [
    "# Importing the data sets and the relevant libraries\n",
    "This ensures that we have the data needed to perform the analysis, as well as the necessary libraries that will aid in performing the mentioned analyses. "
   ]
  },
  {
   "cell_type": "code",
   "execution_count": 136,
   "metadata": {},
   "outputs": [],
   "source": [
    "#import the necessary libraries\n",
    "import csv\n",
    "import pandas as pd\n",
    "import sqlite3\n",
    "import numpy as np\n",
    "import matplotlib.pyplot as plt\n",
    "from sqlalchemy import create_engine"
   ]
  },
  {
   "cell_type": "markdown",
   "metadata": {},
   "source": [
    "## Data Analysis per Data Set\n",
    "The data sets will be analysed in three steps:\n",
    "1. Individual Analysis of the CSV file\n",
    "2. Individual Analysis of the SQL Database\n",
    "3. Joint Analysis of the data sets. \n",
    "The purpose of this approach is to ensure that inferences are drawn from the various data sets independently as well as when they are joined. "
   ]
  },
  {
   "cell_type": "markdown",
   "metadata": {},
   "source": [
    "## 1. Individual Analysis of the CSV file"
   ]
  },
  {
   "cell_type": "markdown",
   "metadata": {},
   "source": [
    "### 1.1 Loadng the Data Set"
   ]
  },
  {
   "cell_type": "code",
   "execution_count": 137,
   "metadata": {},
   "outputs": [
    {
     "name": "stdout",
     "output_type": "stream",
     "text": [
      "                                         title studio  domestic_gross  \\\n",
      "0                                  Toy Story 3     BV     415000000.0   \n",
      "1                   Alice in Wonderland (2010)     BV     334200000.0   \n",
      "2  Harry Potter and the Deathly Hallows Part 1     WB     296000000.0   \n",
      "3                                    Inception     WB     292600000.0   \n",
      "4                          Shrek Forever After   P/DW     238700000.0   \n",
      "5                   The Twilight Saga: Eclipse   Sum.     300500000.0   \n",
      "6                                   Iron Man 2   Par.     312400000.0   \n",
      "7                                      Tangled     BV     200800000.0   \n",
      "8                                Despicable Me   Uni.     251500000.0   \n",
      "9                     How to Train Your Dragon   P/DW     217600000.0   \n",
      "\n",
      "  foreign_gross  year  \n",
      "0     652000000  2010  \n",
      "1     691300000  2010  \n",
      "2     664300000  2010  \n",
      "3     535700000  2010  \n",
      "4     513900000  2010  \n",
      "5     398000000  2010  \n",
      "6     311500000  2010  \n",
      "7     391000000  2010  \n",
      "8     291600000  2010  \n",
      "9     277300000  2010  \n"
     ]
    }
   ],
   "source": [
    "# Create the needed file path\n",
    "file_path = './bom.movie_gross.csv'\n",
    "#Read it into a pandas dataframe\n",
    "df =pd.read_csv(file_path)\n",
    "#show the results of the top ten in the list \n",
    "print(df.head(10))"
   ]
  },
  {
   "cell_type": "markdown",
   "metadata": {},
   "source": [
    "### 1.2 Cleaning the Data Set\n",
    "#### 1.2.1 We will start by dropping the rows that haver missing values for the domestic gross or the foreign gross columns. This ensures that we deleted al the null values, hence giving us a clean data set to work with."
   ]
  },
  {
   "cell_type": "code",
   "execution_count": 138,
   "metadata": {},
   "outputs": [
    {
     "name": "stdout",
     "output_type": "stream",
     "text": [
      "                                                  title  domestic_gross  \\\n",
      "0                                           Toy Story 3     415000000.0   \n",
      "1                            Alice in Wonderland (2010)     334200000.0   \n",
      "2           Harry Potter and the Deathly Hallows Part 1     296000000.0   \n",
      "3                                             Inception     292600000.0   \n",
      "4                                   Shrek Forever After     238700000.0   \n",
      "...                                                 ...             ...   \n",
      "3275                                    I Still See You          1400.0   \n",
      "3286                              The Catcher Was a Spy        725000.0   \n",
      "3309                                         Time Freak         10000.0   \n",
      "3342  Reign of Judges: Title of Liberty - Concept Short         93200.0   \n",
      "3353            Antonio Lopez 1970: Sex Fashion & Disco         43200.0   \n",
      "\n",
      "     foreign_gross  \n",
      "0        652000000  \n",
      "1        691300000  \n",
      "2        664300000  \n",
      "3        535700000  \n",
      "4        513900000  \n",
      "...            ...  \n",
      "3275       1500000  \n",
      "3286        229000  \n",
      "3309        256000  \n",
      "3342          5200  \n",
      "3353         30000  \n",
      "\n",
      "[2009 rows x 3 columns]\n"
     ]
    }
   ],
   "source": [
    "#Drop rows with missing values in the 'domestic gross' and 'foreign gross' features\n",
    "df.dropna(subset=['domestic_gross', 'foreign_gross'], inplace=True)\n",
    "\n",
    "# Display the DataFrame after dropping rows\n",
    "print(df[['title', 'domestic_gross', 'foreign_gross']])"
   ]
  },
  {
   "cell_type": "markdown",
   "metadata": {},
   "source": [
    "#### 1.2.2 Let's check if there are any other columns that have null values"
   ]
  },
  {
   "cell_type": "code",
   "execution_count": 139,
   "metadata": {},
   "outputs": [
    {
     "name": "stdout",
     "output_type": "stream",
     "text": [
      "These are the Null Values in the CSV Data:\n",
      "title             0\n",
      "studio            2\n",
      "domestic_gross    0\n",
      "foreign_gross     0\n",
      "year              0\n",
      "dtype: int64\n"
     ]
    }
   ],
   "source": [
    "# Check for null values in the DataFrame\n",
    "null_values = df.isnull().sum()\n",
    "\n",
    "# Display the count of null values for each column\n",
    "print(\"These are the Null Values in the CSV Data:\")\n",
    "print(null_values)"
   ]
  },
  {
   "cell_type": "markdown",
   "metadata": {},
   "source": [
    "#### 1.2.3 Let's delete the null values in the studio column as shown in the output above"
   ]
  },
  {
   "cell_type": "code",
   "execution_count": 140,
   "metadata": {},
   "outputs": [
    {
     "name": "stdout",
     "output_type": "stream",
     "text": [
      "                                                  title        studio  \\\n",
      "0                                           Toy Story 3            BV   \n",
      "1                            Alice in Wonderland (2010)            BV   \n",
      "2           Harry Potter and the Deathly Hallows Part 1            WB   \n",
      "3                                             Inception            WB   \n",
      "4                                   Shrek Forever After          P/DW   \n",
      "...                                                 ...           ...   \n",
      "3275                                    I Still See You           LGF   \n",
      "3286                              The Catcher Was a Spy           IFC   \n",
      "3309                                         Time Freak    Grindstone   \n",
      "3342  Reign of Judges: Title of Liberty - Concept Short  Darin Southa   \n",
      "3353            Antonio Lopez 1970: Sex Fashion & Disco            FM   \n",
      "\n",
      "      domestic_gross foreign_gross  year  \n",
      "0        415000000.0     652000000  2010  \n",
      "1        334200000.0     691300000  2010  \n",
      "2        296000000.0     664300000  2010  \n",
      "3        292600000.0     535700000  2010  \n",
      "4        238700000.0     513900000  2010  \n",
      "...              ...           ...   ...  \n",
      "3275          1400.0       1500000  2018  \n",
      "3286        725000.0        229000  2018  \n",
      "3309         10000.0        256000  2018  \n",
      "3342         93200.0          5200  2018  \n",
      "3353         43200.0         30000  2018  \n",
      "\n",
      "[2007 rows x 5 columns]\n"
     ]
    }
   ],
   "source": [
    "#Drop rows with missing values in the 'studio' features\n",
    "df.dropna(subset=['studio'], inplace=True)\n",
    "#save the cleaned data under a new variable name for reference\n",
    "cleaned_data = df\n",
    "# Display the DataFrame after dropping rows\n",
    "print(cleaned_data)\n",
    "#print(df[['title', 'domestic_gross', 'foreign_gross', 'studio']])"
   ]
  },
  {
   "cell_type": "markdown",
   "metadata": {},
   "source": [
    "#### 1.2.4 Let's see the data types, and make necessary adjustments where necessary. We ideally want the Title and Studio to be Objects, domestic gross and foreign gross to be integers or floats, and year to be am integer. If that's the case, then the data is in a good shape for us to manipulate. "
   ]
  },
  {
   "cell_type": "code",
   "execution_count": 141,
   "metadata": {},
   "outputs": [
    {
     "name": "stdout",
     "output_type": "stream",
     "text": [
      "Data Types of Each Column:\n",
      "title              object\n",
      "studio             object\n",
      "domestic_gross    float64\n",
      "foreign_gross      object\n",
      "year                int64\n",
      "dtype: object\n"
     ]
    }
   ],
   "source": [
    "\n",
    " #Display data types of each column\n",
    "print(\"Data Types of Each Column:\")\n",
    "print(cleaned_data.dtypes)"
   ]
  },
  {
   "cell_type": "markdown",
   "metadata": {},
   "source": [
    "#### 1.2.5 Let's check whether there are duplicates in the data set, and delete the duplicates if any."
   ]
  },
  {
   "cell_type": "code",
   "execution_count": 142,
   "metadata": {},
   "outputs": [
    {
     "data": {
      "text/plain": [
       "False    2007\n",
       "Name: count, dtype: int64"
      ]
     },
     "execution_count": 142,
     "metadata": {},
     "output_type": "execute_result"
    }
   ],
   "source": [
    "#Check for duplicates\n",
    "df.duplicated().value_counts()"
   ]
  },
  {
   "cell_type": "markdown",
   "metadata": {},
   "source": [
    "### 1.3 Data Analysis and Visualization\n",
    "Now that we have cleaned the data we can now do the analysis"
   ]
  },
  {
   "cell_type": "markdown",
   "metadata": {},
   "source": [
    "#### 1.3.1 Let's find the top ten studios based on total gross for the period of time. This forms part of competitor analysis and we can also use this data later when we want to highlight specific details about the top studios."
   ]
  },
  {
   "cell_type": "code",
   "execution_count": 143,
   "metadata": {},
   "outputs": [
    {
     "name": "stdout",
     "output_type": "stream",
     "text": [
      "Requirement already satisfied: tabulate in c:\\users\\pc\\anaconda3\\envs\\learn-env\\lib\\site-packages (0.9.0)\n"
     ]
    }
   ],
   "source": [
    "!pip install tabulate"
   ]
  },
  {
   "cell_type": "code",
   "execution_count": 144,
   "metadata": {},
   "outputs": [
    {
     "name": "stdout",
     "output_type": "stream",
     "text": [
      "Top Ten Studios Based on Total Gross:\n",
      "| Studio   |   Total Gross |\n",
      "|:---------|--------------:|\n",
      "| BV       |   4.25749e+10 |\n",
      "| Fox      |   3.09804e+10 |\n",
      "| WB       |   3.07915e+10 |\n",
      "| Uni.     |   2.85155e+10 |\n",
      "| Sony     |   2.24047e+10 |\n",
      "| Par.     |   1.94442e+10 |\n",
      "| WB (NL)  |   1.03141e+10 |\n",
      "| LGF      |   8.46747e+09 |\n",
      "| LG/S     |   5.31892e+09 |\n",
      "| P/DW     |   5.0765e+09  |\n"
     ]
    }
   ],
   "source": [
    " \n",
    "# Create a new column 'total_gross' representing the sum of domestic and foreign gross\n",
    "cleaned_data['total_gross'] =  pd.to_numeric(cleaned_data['domestic_gross'], errors='coerce') + pd.to_numeric(cleaned_data['foreign_gross'], errors='coerce')\n",
    "\n",
    "# Group by studio and calculate the total gross for each\n",
    "studio_total_gross = cleaned_data.groupby('studio')['total_gross'].sum()\n",
    "\n",
    "# Get the top ten studios\n",
    "top_ten_studios = studio_total_gross.nlargest(10)\n",
    "pd.options.display.float_format = None\n",
    "# Print the list of top ten studios based on total gross\n",
    "\n",
    "print(\"Top Ten Studios Based on Total Gross:\")\n",
    "print(top_ten_studios.reset_index().to_markdown(index=False, headers=[\"Studio\", \"Total Gross\"]))\n"
   ]
  },
  {
   "cell_type": "markdown",
   "metadata": {},
   "source": [
    "#### 1.3.2 Below is the graph showing the top ten studios based on total gross."
   ]
  },
  {
   "cell_type": "code",
   "execution_count": 145,
   "metadata": {},
   "outputs": [
    {
     "data": {
      "image/png": "[encoded data removed]",
      "text/plain": [
       "<Figure size 1200x800 with 1 Axes>"
      ]
     },
     "metadata": {},
     "output_type": "display_data"
    }
   ],
   "source": [
    "# Plotting a bar chart for the top ten studios\n",
    "plt.figure(figsize=(12, 8))\n",
    "top_ten_studios.sort_values(ascending=False).plot(kind='bar', color='green')\n",
    "#Name the axes\n",
    "plt.title('Top Ten Studios Based on Total Gross')\n",
    "plt.xlabel('Studio')\n",
    "plt.ylabel('Total Gross')\n",
    "#Show the graph\n",
    "plt.show()"
   ]
  },
  {
   "cell_type": "markdown",
   "metadata": {},
   "source": [
    "#### 1.3.3 Le't find the top movies based on the total gross over the time period. "
   ]
  },
  {
   "cell_type": "code",
   "execution_count": 146,
   "metadata": {},
   "outputs": [
    {
     "data": {
      "image/png": "[encoded data removed]",
      "text/plain": [
       "<Figure size 640x480 with 1 Axes>"
      ]
     },
     "metadata": {},
     "output_type": "display_data"
    }
   ],
   "source": [
    "# Top movies by total gross\n",
    "top_movies = df.groupby('title')['domestic_gross'].sum().sort_values(ascending=False).head(10)\n",
    "\n",
    "# Plotting\n",
    "top_movies.plot(kind='bar', color='blue')\n",
    "plt.title('Top Movies by Total Gross')\n",
    "plt.xlabel('Movie Title')\n",
    "plt.ylabel('Total Gross')\n",
    "plt.show()"
   ]
  },
  {
   "cell_type": "markdown",
   "metadata": {},
   "source": [
    "#### 1.3.4 Next step is to find the Average Domestic Gross by Studio"
   ]
  },
  {
   "cell_type": "code",
   "execution_count": 147,
   "metadata": {},
   "outputs": [
    {
     "data": {
      "image/png": "[encoded data removed]",
      "text/plain": [
       "<Figure size 640x480 with 1 Axes>"
      ]
     },
     "metadata": {},
     "output_type": "display_data"
    }
   ],
   "source": [
    "# Average domestic gross by studio\n",
    "studio_avg_gross = df.groupby('studio')['domestic_gross'].mean().sort_values(ascending=False).head(10)\n",
    "\n",
    "# Plotting\n",
    "studio_avg_gross.plot(kind='bar', color='lightgreen')\n",
    "plt.title('Average Domestic Gross by Studio')\n",
    "plt.xlabel('Studio')\n",
    "plt.ylabel('Average Domestic Gross')\n",
    "plt.show()"
   ]
  },
  {
   "cell_type": "markdown",
   "metadata": {},
   "source": [
    "#### 1.3.5 Let's visualize the number of releases by the studios to see how they performed"
   ]
  },
  {
   "cell_type": "code",
   "execution_count": 148,
   "metadata": {},
   "outputs": [
    {
     "data": {
      "image/png": "[encoded data removed]",
      "text/plain": [
       "<Figure size 640x480 with 1 Axes>"
      ]
     },
     "metadata": {},
     "output_type": "display_data"
    }
   ],
   "source": [
    "# Number of releases by studio\n",
    "studio_movie_count = df['studio'].value_counts().head(10)\n",
    "\n",
    "# Plotting\n",
    "studio_movie_count.plot(kind='bar', color='red')\n",
    "plt.title('Studios with the Most Releases')\n",
    "plt.xlabel('Studio')\n",
    "plt.ylabel('Number of Releases')\n",
    "plt.show()\n"
   ]
  },
  {
   "cell_type": "markdown",
   "metadata": {},
   "source": [
    "#### 1.3.6 Let's do a comparison of the domestic and foreign gross over time."
   ]
  },
  {
   "cell_type": "code",
   "execution_count": 149,
   "metadata": {},
   "outputs": [
    {
     "name": "stdout",
     "output_type": "stream",
     "text": [
      "domestic_gross    float64\n",
      "foreign_gross      object\n",
      "dtype: object\n"
     ]
    },
    {
     "data": {
      "image/png": "[encoded data removed]",
      "text/plain": [
       "<Figure size 640x480 with 1 Axes>"
      ]
     },
     "metadata": {},
     "output_type": "display_data"
    }
   ],
   "source": [
    "import matplotlib.pyplot as plt\n",
    "\n",
    "# Check data types of 'domestic_gross' and 'foreign_gross' columns\n",
    "print(df[['domestic_gross', 'foreign_gross']].dtypes)\n",
    "\n",
    "# Convert columns to numeric if needed\n",
    "df['domestic_gross'] = pd.to_numeric(df['domestic_gross'], errors='coerce')\n",
    "df['foreign_gross'] = pd.to_numeric(df['foreign_gross'], errors='coerce')\n",
    "\n",
    "# Total domestic vs. foreign gross\n",
    "total_gross_comparison = df[['domestic_gross', 'foreign_gross']].sum()\n",
    "\n",
    "# Plotting\n",
    "total_gross_comparison.plot(kind='pie', autopct='%1.1f%%', colors=['orange', 'green'])\n",
    "plt.title('Comparison of Domestic vs. Foreign Gross')\n",
    "plt.show()\n"
   ]
  },
  {
   "cell_type": "markdown",
   "metadata": {},
   "source": [
    "### 1.4 Inferences that can be drawn from the above analysis \n",
    "#### 1.4.1 Below are the top insights that we can get from this data. \n",
    "- Over the years, the foreign gross is greater than the domestic gross. Meaning that there Microsoft should be aware of the bigger market that exists outside the country. \n",
    "- The top performing studios also produced a high number of movies. \n",
    "#### 1.4.2 How can this data be useful? \n",
    "- Microsoft can have a clear idea of who the key competitors are as the company plans to start a studio. \n",
    "- Microsoft should be cognizant of the huger foreign market, and therefore make movies that appeal to a larger audience. \n",
    "- As the top Studios are also doing this, Microsoft should have a budget to produce several movies over the years."
   ]
  },
  {
   "cell_type": "markdown",
   "metadata": {},
   "source": [
    "## 2. Individual Analysis of the SQL Database"
   ]
  },
  {
   "cell_type": "markdown",
   "metadata": {},
   "source": [
    "### 2.1 Loading the Database"
   ]
  },
  {
   "cell_type": "markdown",
   "metadata": {},
   "source": [
    "The next step is to load the SQL data base and then work with it. The data base has several tables, from which we can get columns of data. These data sets will be used to create visualization and to drawm inferences that the CEO can use. "
   ]
  },
  {
   "cell_type": "markdown",
   "metadata": {},
   "source": [
    "#### 2.1.1 Let's start by verifying the tables available in the database"
   ]
  },
  {
   "cell_type": "code",
   "execution_count": 150,
   "metadata": {},
   "outputs": [
    {
     "name": "stdout",
     "output_type": "stream",
     "text": [
      "movie_basics\n",
      "directors\n",
      "known_for\n",
      "movie_akas\n",
      "movie_ratings\n",
      "persons\n",
      "principals\n",
      "writers\n",
      "bom\n"
     ]
    }
   ],
   "source": [
    "# Connect to the SQLite database\n",
    "conn = sqlite3.connect('im.db')\n",
    "\n",
    "# Create a cursor object to interact with the database\n",
    "cursor = conn.cursor()\n",
    "\n",
    "# Execute a query to fetch all tables\n",
    "cursor.execute(\"SELECT name FROM sqlite_master WHERE type='table';\")\n",
    "\n",
    "# Fetch all table names\n",
    "tables = cursor.fetchall()\n",
    "\n",
    "# Print the table names\n",
    "for table in tables:\n",
    "    print(table[0])\n"
   ]
  },
  {
   "cell_type": "markdown",
   "metadata": {},
   "source": [
    "#### 2.1.2 Since we are more interested in the movie_basics and the movie_ratings tables, we can have a look at those to see what they contain "
   ]
  },
  {
   "cell_type": "code",
   "execution_count": 151,
   "metadata": {},
   "outputs": [
    {
     "name": "stdout",
     "output_type": "stream",
     "text": [
      "      movie_id  averagerating  numvotes\n",
      "0   tt10356526            8.3        31\n",
      "1   tt10384606            8.9       559\n",
      "2    tt1042974            6.4        20\n",
      "3    tt1043726            4.2     50352\n",
      "4    tt1060240            6.5        21\n",
      "..         ...            ...       ...\n",
      "95   tt1515069            8.3        15\n",
      "96   tt1515208            6.3      1447\n",
      "97   tt1516577            5.3       147\n",
      "98   tt1516595            4.4        64\n",
      "99   tt1517225            7.4      2189\n",
      "\n",
      "[100 rows x 3 columns]\n"
     ]
    }
   ],
   "source": [
    "# Review data in \"movie_ratings\"\n",
    "ratings_data_query = \"\"\"\n",
    "SELECT *\n",
    "FROM movie_ratings;\n",
    "\"\"\"\n",
    "\n",
    "ratings_data = pd.read_sql(ratings_data_query, conn)\n",
    "print(ratings_data.head(100))\n"
   ]
  },
  {
   "cell_type": "code",
   "execution_count": 152,
   "metadata": {},
   "outputs": [
    {
     "name": "stdout",
     "output_type": "stream",
     "text": [
      "     movie_id                          primary_title  \\\n",
      "0   tt0063540                              Sunghursh   \n",
      "1   tt0066787        One Day Before the Rainy Season   \n",
      "2   tt0069049             The Other Side of the Wind   \n",
      "3   tt0069204                        Sabse Bada Sukh   \n",
      "4   tt0100275               The Wandering Soap Opera   \n",
      "..        ...                                    ...   \n",
      "95  tt0429493                             The A-Team   \n",
      "96  tt0430524                            The Rescuer   \n",
      "97  tt0431021                         The Possession   \n",
      "98  tt0432010  The Queen of Sheba Meets the Atom Man   \n",
      "99  tt0433035                             Real Steel   \n",
      "\n",
      "                           original_title  start_year  runtime_minutes  \\\n",
      "0                               Sunghursh        2013            175.0   \n",
      "1                         Ashad Ka Ek Din        2019            114.0   \n",
      "2              The Other Side of the Wind        2018            122.0   \n",
      "3                         Sabse Bada Sukh        2018              NaN   \n",
      "4                   La Telenovela Errante        2017             80.0   \n",
      "..                                    ...         ...              ...   \n",
      "95                             The A-Team        2010            117.0   \n",
      "96                            The Rescuer        2011             84.0   \n",
      "97                         The Possession        2012             92.0   \n",
      "98  The Queen of Sheba Meets the Atom Man        2018            110.0   \n",
      "99                             Real Steel        2011            127.0   \n",
      "\n",
      "                       genres  \n",
      "0          Action,Crime,Drama  \n",
      "1             Biography,Drama  \n",
      "2                       Drama  \n",
      "3                Comedy,Drama  \n",
      "4        Comedy,Drama,Fantasy  \n",
      "..                        ...  \n",
      "95  Action,Adventure,Thriller  \n",
      "96                Documentary  \n",
      "97    Horror,Mystery,Thriller  \n",
      "98                     Comedy  \n",
      "99        Action,Drama,Family  \n",
      "\n",
      "[100 rows x 6 columns]\n"
     ]
    }
   ],
   "source": [
    "# Review data in \"movie_basics\"\n",
    "ratings_data_query = \"\"\"\n",
    "SELECT *\n",
    "FROM movie_basics;\n",
    "\"\"\"\n",
    "\n",
    "ratings_data = pd.read_sql(ratings_data_query, conn)\n",
    "print(ratings_data.head(100))\n"
   ]
  },
  {
   "cell_type": "markdown",
   "metadata": {},
   "source": [
    "#### 2.1.4 From the above, we now know the data contained inside the databases. Therefore we casn proceed to clean the database and get the info that we want."
   ]
  },
  {
   "cell_type": "markdown",
   "metadata": {},
   "source": [
    "### 2.2 Cleaning the Database"
   ]
  },
  {
   "cell_type": "markdown",
   "metadata": {},
   "source": [
    "#### 2.2.1 Cleaning the movie_basics and the movie_ratings database. We want to look for any discpripancies in the data, and any outliers. "
   ]
  },
  {
   "cell_type": "code",
   "execution_count": 153,
   "metadata": {},
   "outputs": [
    {
     "data": {
      "text/html": [
       "<div>\n",
       "<style scoped>\n",
       "    .dataframe tbody tr th:only-of-type {\n",
       "        vertical-align: middle;\n",
       "    }\n",
       "\n",
       "    .dataframe tbody tr th {\n",
       "        vertical-align: top;\n",
       "    }\n",
       "\n",
       "    .dataframe thead th {\n",
       "        text-align: right;\n",
       "    }\n",
       "</style>\n",
       "<table border=\"1\" class=\"dataframe\">\n",
       "  <thead>\n",
       "    <tr style=\"text-align: right;\">\n",
       "      <th></th>\n",
       "      <th>movie_id</th>\n",
       "      <th>averagerating</th>\n",
       "      <th>numvotes</th>\n",
       "    </tr>\n",
       "  </thead>\n",
       "  <tbody>\n",
       "    <tr>\n",
       "      <th>0</th>\n",
       "      <td>tt10356526</td>\n",
       "      <td>8.3</td>\n",
       "      <td>31</td>\n",
       "    </tr>\n",
       "    <tr>\n",
       "      <th>1</th>\n",
       "      <td>tt10384606</td>\n",
       "      <td>8.9</td>\n",
       "      <td>559</td>\n",
       "    </tr>\n",
       "    <tr>\n",
       "      <th>2</th>\n",
       "      <td>tt1042974</td>\n",
       "      <td>6.4</td>\n",
       "      <td>20</td>\n",
       "    </tr>\n",
       "    <tr>\n",
       "      <th>3</th>\n",
       "      <td>tt1043726</td>\n",
       "      <td>4.2</td>\n",
       "      <td>50352</td>\n",
       "    </tr>\n",
       "    <tr>\n",
       "      <th>4</th>\n",
       "      <td>tt1060240</td>\n",
       "      <td>6.5</td>\n",
       "      <td>21</td>\n",
       "    </tr>\n",
       "    <tr>\n",
       "      <th>...</th>\n",
       "      <td>...</td>\n",
       "      <td>...</td>\n",
       "      <td>...</td>\n",
       "    </tr>\n",
       "    <tr>\n",
       "      <th>73851</th>\n",
       "      <td>tt9805820</td>\n",
       "      <td>8.1</td>\n",
       "      <td>25</td>\n",
       "    </tr>\n",
       "    <tr>\n",
       "      <th>73852</th>\n",
       "      <td>tt9844256</td>\n",
       "      <td>7.5</td>\n",
       "      <td>24</td>\n",
       "    </tr>\n",
       "    <tr>\n",
       "      <th>73853</th>\n",
       "      <td>tt9851050</td>\n",
       "      <td>4.7</td>\n",
       "      <td>14</td>\n",
       "    </tr>\n",
       "    <tr>\n",
       "      <th>73854</th>\n",
       "      <td>tt9886934</td>\n",
       "      <td>7.0</td>\n",
       "      <td>5</td>\n",
       "    </tr>\n",
       "    <tr>\n",
       "      <th>73855</th>\n",
       "      <td>tt9894098</td>\n",
       "      <td>6.3</td>\n",
       "      <td>128</td>\n",
       "    </tr>\n",
       "  </tbody>\n",
       "</table>\n",
       "<p>73856 rows × 3 columns</p>\n",
       "</div>"
      ],
      "text/plain": [
       "         movie_id  averagerating  numvotes\n",
       "0      tt10356526            8.3        31\n",
       "1      tt10384606            8.9       559\n",
       "2       tt1042974            6.4        20\n",
       "3       tt1043726            4.2     50352\n",
       "4       tt1060240            6.5        21\n",
       "...           ...            ...       ...\n",
       "73851   tt9805820            8.1        25\n",
       "73852   tt9844256            7.5        24\n",
       "73853   tt9851050            4.7        14\n",
       "73854   tt9886934            7.0         5\n",
       "73855   tt9894098            6.3       128\n",
       "\n",
       "[73856 rows x 3 columns]"
      ]
     },
     "execution_count": 153,
     "metadata": {},
     "output_type": "execute_result"
    }
   ],
   "source": [
    "# Review data in \"movie_ratings\" and see the null values\n",
    "clean_data_query_mr = \"\"\"\n",
    "SELECT *\n",
    "FROM movie_ratings\n",
    "WHERE averagerating IS NOT NULL OR numvotes IS NOT NULL;\n",
    "\"\"\"\n",
    "pd.read_sql(clean_data_query_mr, conn)"
   ]
  },
  {
   "cell_type": "code",
   "execution_count": 154,
   "metadata": {},
   "outputs": [
    {
     "data": {
      "text/html": [
       "<div>\n",
       "<style scoped>\n",
       "    .dataframe tbody tr th:only-of-type {\n",
       "        vertical-align: middle;\n",
       "    }\n",
       "\n",
       "    .dataframe tbody tr th {\n",
       "        vertical-align: top;\n",
       "    }\n",
       "\n",
       "    .dataframe thead th {\n",
       "        text-align: right;\n",
       "    }\n",
       "</style>\n",
       "<table border=\"1\" class=\"dataframe\">\n",
       "  <thead>\n",
       "    <tr style=\"text-align: right;\">\n",
       "      <th></th>\n",
       "      <th>movie_id</th>\n",
       "      <th>primary_title</th>\n",
       "      <th>original_title</th>\n",
       "      <th>start_year</th>\n",
       "      <th>runtime_minutes</th>\n",
       "      <th>genres</th>\n",
       "    </tr>\n",
       "  </thead>\n",
       "  <tbody>\n",
       "    <tr>\n",
       "      <th>0</th>\n",
       "      <td>tt0063540</td>\n",
       "      <td>Sunghursh</td>\n",
       "      <td>Sunghursh</td>\n",
       "      <td>2013</td>\n",
       "      <td>175.0</td>\n",
       "      <td>Action,Crime,Drama</td>\n",
       "    </tr>\n",
       "    <tr>\n",
       "      <th>1</th>\n",
       "      <td>tt0066787</td>\n",
       "      <td>One Day Before the Rainy Season</td>\n",
       "      <td>Ashad Ka Ek Din</td>\n",
       "      <td>2019</td>\n",
       "      <td>114.0</td>\n",
       "      <td>Biography,Drama</td>\n",
       "    </tr>\n",
       "    <tr>\n",
       "      <th>2</th>\n",
       "      <td>tt0069049</td>\n",
       "      <td>The Other Side of the Wind</td>\n",
       "      <td>The Other Side of the Wind</td>\n",
       "      <td>2018</td>\n",
       "      <td>122.0</td>\n",
       "      <td>Drama</td>\n",
       "    </tr>\n",
       "    <tr>\n",
       "      <th>3</th>\n",
       "      <td>tt0100275</td>\n",
       "      <td>The Wandering Soap Opera</td>\n",
       "      <td>La Telenovela Errante</td>\n",
       "      <td>2017</td>\n",
       "      <td>80.0</td>\n",
       "      <td>Comedy,Drama,Fantasy</td>\n",
       "    </tr>\n",
       "    <tr>\n",
       "      <th>4</th>\n",
       "      <td>tt0111414</td>\n",
       "      <td>A Thin Life</td>\n",
       "      <td>A Thin Life</td>\n",
       "      <td>2018</td>\n",
       "      <td>75.0</td>\n",
       "      <td>Comedy</td>\n",
       "    </tr>\n",
       "    <tr>\n",
       "      <th>...</th>\n",
       "      <td>...</td>\n",
       "      <td>...</td>\n",
       "      <td>...</td>\n",
       "      <td>...</td>\n",
       "      <td>...</td>\n",
       "      <td>...</td>\n",
       "    </tr>\n",
       "    <tr>\n",
       "      <th>112228</th>\n",
       "      <td>tt9916160</td>\n",
       "      <td>Drømmeland</td>\n",
       "      <td>Drømmeland</td>\n",
       "      <td>2019</td>\n",
       "      <td>72.0</td>\n",
       "      <td>Documentary</td>\n",
       "    </tr>\n",
       "    <tr>\n",
       "      <th>112229</th>\n",
       "      <td>tt9916170</td>\n",
       "      <td>The Rehearsal</td>\n",
       "      <td>O Ensaio</td>\n",
       "      <td>2019</td>\n",
       "      <td>51.0</td>\n",
       "      <td>Drama</td>\n",
       "    </tr>\n",
       "    <tr>\n",
       "      <th>112230</th>\n",
       "      <td>tt9916186</td>\n",
       "      <td>Illenau - die Geschichte einer ehemaligen Heil...</td>\n",
       "      <td>Illenau - die Geschichte einer ehemaligen Heil...</td>\n",
       "      <td>2017</td>\n",
       "      <td>84.0</td>\n",
       "      <td>Documentary</td>\n",
       "    </tr>\n",
       "    <tr>\n",
       "      <th>112231</th>\n",
       "      <td>tt9916190</td>\n",
       "      <td>Safeguard</td>\n",
       "      <td>Safeguard</td>\n",
       "      <td>2019</td>\n",
       "      <td>90.0</td>\n",
       "      <td>Drama,Thriller</td>\n",
       "    </tr>\n",
       "    <tr>\n",
       "      <th>112232</th>\n",
       "      <td>tt9916538</td>\n",
       "      <td>Kuambil Lagi Hatiku</td>\n",
       "      <td>Kuambil Lagi Hatiku</td>\n",
       "      <td>2019</td>\n",
       "      <td>123.0</td>\n",
       "      <td>Drama</td>\n",
       "    </tr>\n",
       "  </tbody>\n",
       "</table>\n",
       "<p>112233 rows × 6 columns</p>\n",
       "</div>"
      ],
      "text/plain": [
       "         movie_id                                      primary_title  \\\n",
       "0       tt0063540                                          Sunghursh   \n",
       "1       tt0066787                    One Day Before the Rainy Season   \n",
       "2       tt0069049                         The Other Side of the Wind   \n",
       "3       tt0100275                           The Wandering Soap Opera   \n",
       "4       tt0111414                                        A Thin Life   \n",
       "...           ...                                                ...   \n",
       "112228  tt9916160                                         Drømmeland   \n",
       "112229  tt9916170                                      The Rehearsal   \n",
       "112230  tt9916186  Illenau - die Geschichte einer ehemaligen Heil...   \n",
       "112231  tt9916190                                          Safeguard   \n",
       "112232  tt9916538                                Kuambil Lagi Hatiku   \n",
       "\n",
       "                                           original_title  start_year  \\\n",
       "0                                               Sunghursh        2013   \n",
       "1                                         Ashad Ka Ek Din        2019   \n",
       "2                              The Other Side of the Wind        2018   \n",
       "3                                   La Telenovela Errante        2017   \n",
       "4                                             A Thin Life        2018   \n",
       "...                                                   ...         ...   \n",
       "112228                                         Drømmeland        2019   \n",
       "112229                                           O Ensaio        2019   \n",
       "112230  Illenau - die Geschichte einer ehemaligen Heil...        2017   \n",
       "112231                                          Safeguard        2019   \n",
       "112232                                Kuambil Lagi Hatiku        2019   \n",
       "\n",
       "        runtime_minutes                genres  \n",
       "0                 175.0    Action,Crime,Drama  \n",
       "1                 114.0       Biography,Drama  \n",
       "2                 122.0                 Drama  \n",
       "3                  80.0  Comedy,Drama,Fantasy  \n",
       "4                  75.0                Comedy  \n",
       "...                 ...                   ...  \n",
       "112228             72.0           Documentary  \n",
       "112229             51.0                 Drama  \n",
       "112230             84.0           Documentary  \n",
       "112231             90.0        Drama,Thriller  \n",
       "112232            123.0                 Drama  \n",
       "\n",
       "[112233 rows x 6 columns]"
      ]
     },
     "execution_count": 154,
     "metadata": {},
     "output_type": "execute_result"
    }
   ],
   "source": [
    "# Review data in \"movie_basics\" and clean out the null values\n",
    "clean_data_query_mb= \"\"\"\n",
    "SELECT *\n",
    "FROM movie_basics\n",
    "WHERE runtime_minutes IS NOT NULL AND genres IS NOT NULL AND start_year IS NOT NULL;\n",
    "\"\"\"\n",
    "pd.read_sql(clean_data_query_mb, conn)"
   ]
  },
  {
   "cell_type": "markdown",
   "metadata": {},
   "source": [
    "### 2.3 Analysis and Visualization\n"
   ]
  },
  {
   "cell_type": "markdown",
   "metadata": {},
   "source": [
    "#### 2.3.1 Now let's start analysing each table and see the inference that we can draw from it. "
   ]
  },
  {
   "cell_type": "code",
   "execution_count": 155,
   "metadata": {},
   "outputs": [
    {
     "name": "stdout",
     "output_type": "stream",
     "text": [
      "the mean number of votes is 3523.6621669194105\n"
     ]
    }
   ],
   "source": [
    "#Find the mean number of votes from the movie ratings table\n",
    "mean_numvotes_query = \"SELECT AVG(numvotes) as mean_numvotes FROM movie_ratings\"\n",
    "mean_numvotes = pd.read_sql_query(mean_numvotes_query, conn)['mean_numvotes'][0]\n",
    "print(\"the mean number of votes is\", mean_numvotes)"
   ]
  },
  {
   "cell_type": "markdown",
   "metadata": {},
   "source": [
    "#### 2.3.2 Let's find the top rated genres"
   ]
  },
  {
   "cell_type": "code",
   "execution_count": 156,
   "metadata": {},
   "outputs": [
    {
     "data": {
      "text/html": [
       "<div>\n",
       "<style scoped>\n",
       "    .dataframe tbody tr th:only-of-type {\n",
       "        vertical-align: middle;\n",
       "    }\n",
       "\n",
       "    .dataframe tbody tr th {\n",
       "        vertical-align: top;\n",
       "    }\n",
       "\n",
       "    .dataframe thead th {\n",
       "        text-align: right;\n",
       "    }\n",
       "</style>\n",
       "<table border=\"1\" class=\"dataframe\">\n",
       "  <thead>\n",
       "    <tr style=\"text-align: right;\">\n",
       "      <th></th>\n",
       "      <th>genres</th>\n",
       "      <th>runtime_minutes</th>\n",
       "      <th>start_year</th>\n",
       "      <th>averagerating</th>\n",
       "      <th>numvotes</th>\n",
       "    </tr>\n",
       "  </thead>\n",
       "  <tbody>\n",
       "    <tr>\n",
       "      <th>0</th>\n",
       "      <td>Comedy,Drama</td>\n",
       "      <td>159.0</td>\n",
       "      <td>2019</td>\n",
       "      <td>9.7</td>\n",
       "      <td>5600</td>\n",
       "    </tr>\n",
       "    <tr>\n",
       "      <th>1</th>\n",
       "      <td>Drama,History</td>\n",
       "      <td>113.0</td>\n",
       "      <td>2017</td>\n",
       "      <td>9.5</td>\n",
       "      <td>6509</td>\n",
       "    </tr>\n",
       "    <tr>\n",
       "      <th>2</th>\n",
       "      <td>Drama</td>\n",
       "      <td>147.0</td>\n",
       "      <td>2018</td>\n",
       "      <td>9.4</td>\n",
       "      <td>9629</td>\n",
       "    </tr>\n",
       "    <tr>\n",
       "      <th>3</th>\n",
       "      <td>Action,Drama,War</td>\n",
       "      <td>135.0</td>\n",
       "      <td>2016</td>\n",
       "      <td>9.3</td>\n",
       "      <td>100568</td>\n",
       "    </tr>\n",
       "    <tr>\n",
       "      <th>4</th>\n",
       "      <td>Crime,Mystery,Thriller</td>\n",
       "      <td>147.0</td>\n",
       "      <td>2016</td>\n",
       "      <td>9.3</td>\n",
       "      <td>18470</td>\n",
       "    </tr>\n",
       "    <tr>\n",
       "      <th>5</th>\n",
       "      <td>Drama</td>\n",
       "      <td>115.0</td>\n",
       "      <td>2014</td>\n",
       "      <td>9.3</td>\n",
       "      <td>17308</td>\n",
       "    </tr>\n",
       "    <tr>\n",
       "      <th>6</th>\n",
       "      <td>Drama,Family</td>\n",
       "      <td>166.0</td>\n",
       "      <td>2016</td>\n",
       "      <td>9.2</td>\n",
       "      <td>4297</td>\n",
       "    </tr>\n",
       "    <tr>\n",
       "      <th>7</th>\n",
       "      <td>Comedy,Documentary</td>\n",
       "      <td>139.0</td>\n",
       "      <td>2013</td>\n",
       "      <td>9.2</td>\n",
       "      <td>41560</td>\n",
       "    </tr>\n",
       "    <tr>\n",
       "      <th>8</th>\n",
       "      <td>Drama</td>\n",
       "      <td>102.0</td>\n",
       "      <td>2018</td>\n",
       "      <td>9.1</td>\n",
       "      <td>4162</td>\n",
       "    </tr>\n",
       "    <tr>\n",
       "      <th>9</th>\n",
       "      <td>Drama</td>\n",
       "      <td>154.0</td>\n",
       "      <td>2018</td>\n",
       "      <td>9.0</td>\n",
       "      <td>4854</td>\n",
       "    </tr>\n",
       "    <tr>\n",
       "      <th>10</th>\n",
       "      <td>Biography,Crime,Documentary</td>\n",
       "      <td>467.0</td>\n",
       "      <td>2016</td>\n",
       "      <td>8.9</td>\n",
       "      <td>14946</td>\n",
       "    </tr>\n",
       "    <tr>\n",
       "      <th>11</th>\n",
       "      <td>Drama,Music,Musical</td>\n",
       "      <td>178.0</td>\n",
       "      <td>2010</td>\n",
       "      <td>8.8</td>\n",
       "      <td>4583</td>\n",
       "    </tr>\n",
       "    <tr>\n",
       "      <th>12</th>\n",
       "      <td>Crime,Drama,Thriller</td>\n",
       "      <td>160.0</td>\n",
       "      <td>2013</td>\n",
       "      <td>8.8</td>\n",
       "      <td>24326</td>\n",
       "    </tr>\n",
       "    <tr>\n",
       "      <th>13</th>\n",
       "      <td>Action,Crime,Thriller</td>\n",
       "      <td>170.0</td>\n",
       "      <td>2018</td>\n",
       "      <td>8.8</td>\n",
       "      <td>10518</td>\n",
       "    </tr>\n",
       "    <tr>\n",
       "      <th>14</th>\n",
       "      <td>Drama</td>\n",
       "      <td>130.0</td>\n",
       "      <td>2016</td>\n",
       "      <td>8.8</td>\n",
       "      <td>8277</td>\n",
       "    </tr>\n",
       "    <tr>\n",
       "      <th>15</th>\n",
       "      <td>Drama,Music,Musical</td>\n",
       "      <td>137.0</td>\n",
       "      <td>2011</td>\n",
       "      <td>8.8</td>\n",
       "      <td>5926</td>\n",
       "    </tr>\n",
       "    <tr>\n",
       "      <th>16</th>\n",
       "      <td>Drama,Romance</td>\n",
       "      <td>158.0</td>\n",
       "      <td>2018</td>\n",
       "      <td>8.8</td>\n",
       "      <td>10903</td>\n",
       "    </tr>\n",
       "    <tr>\n",
       "      <th>17</th>\n",
       "      <td>Action,Adventure,Sci-Fi</td>\n",
       "      <td>181.0</td>\n",
       "      <td>2019</td>\n",
       "      <td>8.8</td>\n",
       "      <td>441135</td>\n",
       "    </tr>\n",
       "    <tr>\n",
       "      <th>18</th>\n",
       "      <td>Action,Adventure,Sci-Fi</td>\n",
       "      <td>148.0</td>\n",
       "      <td>2010</td>\n",
       "      <td>8.8</td>\n",
       "      <td>1841066</td>\n",
       "    </tr>\n",
       "    <tr>\n",
       "      <th>19</th>\n",
       "      <td>Action,Crime</td>\n",
       "      <td>164.0</td>\n",
       "      <td>2018</td>\n",
       "      <td>8.7</td>\n",
       "      <td>6217</td>\n",
       "    </tr>\n",
       "  </tbody>\n",
       "</table>\n",
       "</div>"
      ],
      "text/plain": [
       "                         genres  runtime_minutes  start_year  averagerating  \\\n",
       "0                  Comedy,Drama            159.0        2019            9.7   \n",
       "1                 Drama,History            113.0        2017            9.5   \n",
       "2                         Drama            147.0        2018            9.4   \n",
       "3              Action,Drama,War            135.0        2016            9.3   \n",
       "4        Crime,Mystery,Thriller            147.0        2016            9.3   \n",
       "5                         Drama            115.0        2014            9.3   \n",
       "6                  Drama,Family            166.0        2016            9.2   \n",
       "7            Comedy,Documentary            139.0        2013            9.2   \n",
       "8                         Drama            102.0        2018            9.1   \n",
       "9                         Drama            154.0        2018            9.0   \n",
       "10  Biography,Crime,Documentary            467.0        2016            8.9   \n",
       "11          Drama,Music,Musical            178.0        2010            8.8   \n",
       "12         Crime,Drama,Thriller            160.0        2013            8.8   \n",
       "13        Action,Crime,Thriller            170.0        2018            8.8   \n",
       "14                        Drama            130.0        2016            8.8   \n",
       "15          Drama,Music,Musical            137.0        2011            8.8   \n",
       "16                Drama,Romance            158.0        2018            8.8   \n",
       "17      Action,Adventure,Sci-Fi            181.0        2019            8.8   \n",
       "18      Action,Adventure,Sci-Fi            148.0        2010            8.8   \n",
       "19                 Action,Crime            164.0        2018            8.7   \n",
       "\n",
       "    numvotes  \n",
       "0       5600  \n",
       "1       6509  \n",
       "2       9629  \n",
       "3     100568  \n",
       "4      18470  \n",
       "5      17308  \n",
       "6       4297  \n",
       "7      41560  \n",
       "8       4162  \n",
       "9       4854  \n",
       "10     14946  \n",
       "11      4583  \n",
       "12     24326  \n",
       "13     10518  \n",
       "14      8277  \n",
       "15      5926  \n",
       "16     10903  \n",
       "17    441135  \n",
       "18   1841066  \n",
       "19      6217  "
      ]
     },
     "execution_count": 156,
     "metadata": {},
     "output_type": "execute_result"
    }
   ],
   "source": [
    "#find the top rated genres\n",
    "#select from the necessary table \n",
    "#tabulate the results\n",
    "conn = sqlite3.connect('im.db')\n",
    "data_query= \"\"\"\n",
    "SELECT genres, runtime_minutes, start_year, averagerating, numvotes\n",
    "FROM movie_basics mb\n",
    "INNER JOIN movie_ratings mr\n",
    "ON mb.movie_id = mr.movie_id\n",
    "WHERE numvotes>=3523.6621669194105 AND averagerating> 1\n",
    "ORDER BY averagerating DESC\n",
    "LIMIT 20\n",
    "\"\"\"\n",
    "pd.read_sql(data_query,conn)"
   ]
  },
  {
   "cell_type": "markdown",
   "metadata": {},
   "source": [
    "#### 2.3.3 Let's see the relationship between genres and ratings, to find the genres that are highly rated by the audience over time."
   ]
  },
  {
   "cell_type": "code",
   "execution_count": 157,
   "metadata": {},
   "outputs": [
    {
     "name": "stderr",
     "output_type": "stream",
     "text": [
      "C:\\Users\\PC\\AppData\\Local\\Temp\\ipykernel_6620\\3586496578.py:23: FutureWarning: \n",
      "\n",
      "Passing `palette` without assigning `hue` is deprecated and will be removed in v0.14.0. Assign the `y` variable to `hue` and set `legend=False` for the same effect.\n",
      "\n",
      "  sns.barplot(x='avg_rating', y='genres', data=df, palette='viridis')\n"
     ]
    },
    {
     "data": {
      "image/png": "[encoded data removed]",
      "text/plain": [
       "<Figure size 1200x600 with 1 Axes>"
      ]
     },
     "metadata": {},
     "output_type": "display_data"
    }
   ],
   "source": [
    "\n",
    "fourth_query = \"\"\"\n",
    "SELECT \n",
    "    mb.genres,\n",
    "    AVG(mr.averagerating) AS avg_rating\n",
    "FROM \n",
    "    movie_basics mb\n",
    "INNER JOIN \n",
    "    movie_ratings mr ON mb.movie_id = mr.movie_id\n",
    "WHERE \n",
    "    mr.numvotes >= 3523.6621669194105 AND mr.averagerating > 0\n",
    "GROUP BY\n",
    "    mb.genres\n",
    "ORDER BY \n",
    "    avg_rating DESC\n",
    "LIMIT 20\n",
    "\"\"\"\n",
    "\n",
    "# Load data into a pandas DataFrame\n",
    "df = pd.read_sql_query(fourth_query, conn)\n",
    "\n",
    "# Plot the relationship between genres and averagerating\n",
    "plt.figure(figsize=(12, 6))\n",
    "sns.barplot(x='avg_rating', y='genres', data=df, palette='viridis')\n",
    "plt.title('Average Rating by Genres')\n",
    "plt.xlabel('Average Rating')\n",
    "plt.ylabel('Genres')\n",
    "plt.show()\n",
    "\n"
   ]
  },
  {
   "cell_type": "markdown",
   "metadata": {},
   "source": [
    "#### 2.3.4 Let's analyse and see if there is a corelation between the running time of a movie and its average rating. "
   ]
  },
  {
   "cell_type": "code",
   "execution_count": 158,
   "metadata": {},
   "outputs": [
    {
     "name": "stdout",
     "output_type": "stream",
     "text": [
      "Correlation between runtime_minutes and averagerating: -0.22880738510273765\n"
     ]
    },
    {
     "data": {
      "image/png": "[encoded data removed]",
      "text/plain": [
       "<Figure size 1000x600 with 1 Axes>"
      ]
     },
     "metadata": {},
     "output_type": "display_data"
    }
   ],
   "source": [
    "import seaborn as sns\n",
    "# Load data into a pandas DataFrame\n",
    "df = pd.read_sql_query(data_query, conn)\n",
    "\n",
    "# Calculate correlation between 'runtime_minutes' and 'averagerating'\n",
    "correlation = df['runtime_minutes'].corr(df['averagerating'])\n",
    "\n",
    "# Print correlation coefficient\n",
    "print(f\"Correlation between runtime_minutes and averagerating: {correlation}\")\n",
    "\n",
    "# Draw a scatter plot\n",
    "plt.figure(figsize=(10, 6))\n",
    "sns.scatterplot(x='runtime_minutes', y='averagerating', data=df)\n",
    "plt.title('Scatter Plot: Runtime vs Average Rating')\n",
    "plt.xlabel('Runtime (minutes)')\n",
    "plt.ylabel('Average Rating')\n",
    "#Calculate and display the correlation coefficient\n",
    "#correlation_coefficient = df['runtime_minutes'].corr(df['averagerating'])\n",
    "#plt.text(0.5, 0.95, f'Correlation Coefficient: {correlation_coefficient:.2f}', horizontalalignment='center', verticalalignment='center', transform=plt.gca().transAxes)\n",
    "\n",
    "plt.show()"
   ]
  },
  {
   "cell_type": "markdown",
   "metadata": {},
   "source": [
    "### 2.4 Drawing Inferences from the database\n",
    "#### 2.4.1 The following are some of the key observations that comes from the above analyses. \n",
    "- There is a week negative correlation between the runtime minutes of the movies and the rating they recieve.\n",
    "- Biographies have the highest average rating over time. \n",
    "#### 2.4.2 The following are the recommendations to Microsoft based on these observations. \n",
    "- The running time of the movie shouldn't be a key point to consider when making movies. \n",
    "- Biographies could be considered as people generally rated them highly on average compared to other genres. \n"
   ]
  },
  {
   "cell_type": "markdown",
   "metadata": {},
   "source": [
    "## 3. Analysis of the CSV and SQL database together"
   ]
  },
  {
   "cell_type": "markdown",
   "metadata": {},
   "source": [
    "### 3.1 Loading the database by joining them"
   ]
  },
  {
   "cell_type": "code",
   "execution_count": 159,
   "metadata": {},
   "outputs": [
    {
     "data": {
      "text/html": [
       "<div>\n",
       "<style scoped>\n",
       "    .dataframe tbody tr th:only-of-type {\n",
       "        vertical-align: middle;\n",
       "    }\n",
       "\n",
       "    .dataframe tbody tr th {\n",
       "        vertical-align: top;\n",
       "    }\n",
       "\n",
       "    .dataframe thead th {\n",
       "        text-align: right;\n",
       "    }\n",
       "</style>\n",
       "<table border=\"1\" class=\"dataframe\">\n",
       "  <thead>\n",
       "    <tr style=\"text-align: right;\">\n",
       "      <th></th>\n",
       "      <th>title</th>\n",
       "      <th>studio</th>\n",
       "      <th>domestic_gross</th>\n",
       "      <th>foreign_gross</th>\n",
       "      <th>year</th>\n",
       "      <th>total_gross</th>\n",
       "    </tr>\n",
       "  </thead>\n",
       "  <tbody>\n",
       "    <tr>\n",
       "      <th>0</th>\n",
       "      <td>Toy Story 3</td>\n",
       "      <td>BV</td>\n",
       "      <td>415000000.0</td>\n",
       "      <td>652000000.0</td>\n",
       "      <td>2010</td>\n",
       "      <td>1.067000e+09</td>\n",
       "    </tr>\n",
       "    <tr>\n",
       "      <th>1</th>\n",
       "      <td>Alice in Wonderland (2010)</td>\n",
       "      <td>BV</td>\n",
       "      <td>334200000.0</td>\n",
       "      <td>691300000.0</td>\n",
       "      <td>2010</td>\n",
       "      <td>1.025500e+09</td>\n",
       "    </tr>\n",
       "    <tr>\n",
       "      <th>2</th>\n",
       "      <td>Harry Potter and the Deathly Hallows Part 1</td>\n",
       "      <td>WB</td>\n",
       "      <td>296000000.0</td>\n",
       "      <td>664300000.0</td>\n",
       "      <td>2010</td>\n",
       "      <td>9.603000e+08</td>\n",
       "    </tr>\n",
       "    <tr>\n",
       "      <th>3</th>\n",
       "      <td>Inception</td>\n",
       "      <td>WB</td>\n",
       "      <td>292600000.0</td>\n",
       "      <td>535700000.0</td>\n",
       "      <td>2010</td>\n",
       "      <td>8.283000e+08</td>\n",
       "    </tr>\n",
       "    <tr>\n",
       "      <th>4</th>\n",
       "      <td>Shrek Forever After</td>\n",
       "      <td>P/DW</td>\n",
       "      <td>238700000.0</td>\n",
       "      <td>513900000.0</td>\n",
       "      <td>2010</td>\n",
       "      <td>7.526000e+08</td>\n",
       "    </tr>\n",
       "    <tr>\n",
       "      <th>...</th>\n",
       "      <td>...</td>\n",
       "      <td>...</td>\n",
       "      <td>...</td>\n",
       "      <td>...</td>\n",
       "      <td>...</td>\n",
       "      <td>...</td>\n",
       "    </tr>\n",
       "    <tr>\n",
       "      <th>2002</th>\n",
       "      <td>I Still See You</td>\n",
       "      <td>LGF</td>\n",
       "      <td>1400.0</td>\n",
       "      <td>1500000.0</td>\n",
       "      <td>2018</td>\n",
       "      <td>1.501400e+06</td>\n",
       "    </tr>\n",
       "    <tr>\n",
       "      <th>2003</th>\n",
       "      <td>The Catcher Was a Spy</td>\n",
       "      <td>IFC</td>\n",
       "      <td>725000.0</td>\n",
       "      <td>229000.0</td>\n",
       "      <td>2018</td>\n",
       "      <td>9.540000e+05</td>\n",
       "    </tr>\n",
       "    <tr>\n",
       "      <th>2004</th>\n",
       "      <td>Time Freak</td>\n",
       "      <td>Grindstone</td>\n",
       "      <td>10000.0</td>\n",
       "      <td>256000.0</td>\n",
       "      <td>2018</td>\n",
       "      <td>2.660000e+05</td>\n",
       "    </tr>\n",
       "    <tr>\n",
       "      <th>2005</th>\n",
       "      <td>Reign of Judges: Title of Liberty - Concept Short</td>\n",
       "      <td>Darin Southa</td>\n",
       "      <td>93200.0</td>\n",
       "      <td>5200.0</td>\n",
       "      <td>2018</td>\n",
       "      <td>9.840000e+04</td>\n",
       "    </tr>\n",
       "    <tr>\n",
       "      <th>2006</th>\n",
       "      <td>Antonio Lopez 1970: Sex Fashion &amp; Disco</td>\n",
       "      <td>FM</td>\n",
       "      <td>43200.0</td>\n",
       "      <td>30000.0</td>\n",
       "      <td>2018</td>\n",
       "      <td>7.320000e+04</td>\n",
       "    </tr>\n",
       "  </tbody>\n",
       "</table>\n",
       "<p>2007 rows × 6 columns</p>\n",
       "</div>"
      ],
      "text/plain": [
       "                                                  title        studio  \\\n",
       "0                                           Toy Story 3            BV   \n",
       "1                            Alice in Wonderland (2010)            BV   \n",
       "2           Harry Potter and the Deathly Hallows Part 1            WB   \n",
       "3                                             Inception            WB   \n",
       "4                                   Shrek Forever After          P/DW   \n",
       "...                                                 ...           ...   \n",
       "2002                                    I Still See You           LGF   \n",
       "2003                              The Catcher Was a Spy           IFC   \n",
       "2004                                         Time Freak    Grindstone   \n",
       "2005  Reign of Judges: Title of Liberty - Concept Short  Darin Southa   \n",
       "2006            Antonio Lopez 1970: Sex Fashion & Disco            FM   \n",
       "\n",
       "      domestic_gross  foreign_gross  year   total_gross  \n",
       "0        415000000.0    652000000.0  2010  1.067000e+09  \n",
       "1        334200000.0    691300000.0  2010  1.025500e+09  \n",
       "2        296000000.0    664300000.0  2010  9.603000e+08  \n",
       "3        292600000.0    535700000.0  2010  8.283000e+08  \n",
       "4        238700000.0    513900000.0  2010  7.526000e+08  \n",
       "...              ...            ...   ...           ...  \n",
       "2002          1400.0      1500000.0  2018  1.501400e+06  \n",
       "2003        725000.0       229000.0  2018  9.540000e+05  \n",
       "2004         10000.0       256000.0  2018  2.660000e+05  \n",
       "2005         93200.0         5200.0  2018  9.840000e+04  \n",
       "2006         43200.0        30000.0  2018  7.320000e+04  \n",
       "\n",
       "[2007 rows x 6 columns]"
      ]
     },
     "execution_count": 159,
     "metadata": {},
     "output_type": "execute_result"
    }
   ],
   "source": [
    "from sqlalchemy import create_engine\n",
    "\n",
    "# Replace 'your_database' and 'your_table' with the actual database and table names\n",
    "table_name = 'bom'\n",
    "df = cleaned_data\n",
    "\n",
    "# Connect to the SQL database using SQLAlchemy\n",
    "engine = create_engine('sqlite:///im.db')  # Replace with your actual database connection string\n",
    "\n",
    "# Write the DataFrame to the SQL database\n",
    "df.to_sql(table_name, engine, index=False, if_exists='replace')  # Change 'replace' to 'append' if needed\n",
    "\n",
    "# Verify the data in the SQL table\n",
    "sql_query = f'SELECT * FROM {table_name}'\n",
    "df_from_sql = pd.read_sql(sql_query, engine)\n",
    "\n",
    "# Display the DataFrame from SQL\n",
    "df_from_sql\n"
   ]
  },
  {
   "cell_type": "code",
   "execution_count": 160,
   "metadata": {},
   "outputs": [],
   "source": [
    "#joining the csv, movie basics and movie ratings columns\n",
    "joined_query = \"\"\" \n",
    "SELECT mb.*, bom.*\n",
    "FROM movie_basics mb\n",
    "INNER JOIN bom\n",
    "ON (mb.primary_title = bom.title OR mb.original_title = bom.title)\n",
    "   AND mb.start_year = bom.year\n",
    "INNER JOIN movie_ratings mr\n",
    "ON mb.movie_id = mr.movie_id\n",
    "WHERE numvotes>=3523.6621669194105 AND averagerating>6.5 AND domestic_gross >0 \n",
    "\n",
    "LIMIT 100;\n",
    "\"\"\""
   ]
  },
  {
   "cell_type": "markdown",
   "metadata": {},
   "source": [
    "### 3.2 Cleaning the database"
   ]
  },
  {
   "cell_type": "code",
   "execution_count": 161,
   "metadata": {},
   "outputs": [
    {
     "data": {
      "text/html": [
       "<div>\n",
       "<style scoped>\n",
       "    .dataframe tbody tr th:only-of-type {\n",
       "        vertical-align: middle;\n",
       "    }\n",
       "\n",
       "    .dataframe tbody tr th {\n",
       "        vertical-align: top;\n",
       "    }\n",
       "\n",
       "    .dataframe thead th {\n",
       "        text-align: right;\n",
       "    }\n",
       "</style>\n",
       "<table border=\"1\" class=\"dataframe\">\n",
       "  <thead>\n",
       "    <tr style=\"text-align: right;\">\n",
       "      <th></th>\n",
       "      <th>movie_id</th>\n",
       "      <th>primary_title</th>\n",
       "      <th>original_title</th>\n",
       "      <th>start_year</th>\n",
       "      <th>runtime_minutes</th>\n",
       "      <th>genres</th>\n",
       "      <th>title</th>\n",
       "      <th>studio</th>\n",
       "      <th>domestic_gross</th>\n",
       "      <th>foreign_gross</th>\n",
       "      <th>year</th>\n",
       "      <th>total_gross</th>\n",
       "    </tr>\n",
       "  </thead>\n",
       "  <tbody>\n",
       "    <tr>\n",
       "      <th>0</th>\n",
       "      <td>tt1210166</td>\n",
       "      <td>Moneyball</td>\n",
       "      <td>Moneyball</td>\n",
       "      <td>2011</td>\n",
       "      <td>133.0</td>\n",
       "      <td>Biography,Drama,Sport</td>\n",
       "      <td>Moneyball</td>\n",
       "      <td>Sony</td>\n",
       "      <td>75600000.0</td>\n",
       "      <td>34600000.0</td>\n",
       "      <td>2011</td>\n",
       "      <td>1.102000e+08</td>\n",
       "    </tr>\n",
       "    <tr>\n",
       "      <th>1</th>\n",
       "      <td>tt1229238</td>\n",
       "      <td>Mission: Impossible - Ghost Protocol</td>\n",
       "      <td>Mission: Impossible - Ghost Protocol</td>\n",
       "      <td>2011</td>\n",
       "      <td>132.0</td>\n",
       "      <td>Action,Adventure,Thriller</td>\n",
       "      <td>Mission: Impossible - Ghost Protocol</td>\n",
       "      <td>Par.</td>\n",
       "      <td>209400000.0</td>\n",
       "      <td>485300000.0</td>\n",
       "      <td>2011</td>\n",
       "      <td>6.947000e+08</td>\n",
       "    </tr>\n",
       "    <tr>\n",
       "      <th>2</th>\n",
       "      <td>tt1232829</td>\n",
       "      <td>21 Jump Street</td>\n",
       "      <td>21 Jump Street</td>\n",
       "      <td>2012</td>\n",
       "      <td>109.0</td>\n",
       "      <td>Action,Comedy,Crime</td>\n",
       "      <td>21 Jump Street</td>\n",
       "      <td>Sony</td>\n",
       "      <td>138400000.0</td>\n",
       "      <td>63100000.0</td>\n",
       "      <td>2012</td>\n",
       "      <td>2.015000e+08</td>\n",
       "    </tr>\n",
       "    <tr>\n",
       "      <th>3</th>\n",
       "      <td>tt1403981</td>\n",
       "      <td>Remember Me</td>\n",
       "      <td>Remember Me</td>\n",
       "      <td>2010</td>\n",
       "      <td>113.0</td>\n",
       "      <td>Drama,Romance</td>\n",
       "      <td>Remember Me</td>\n",
       "      <td>Sum.</td>\n",
       "      <td>19100000.0</td>\n",
       "      <td>37000000.0</td>\n",
       "      <td>2010</td>\n",
       "      <td>5.610000e+07</td>\n",
       "    </tr>\n",
       "    <tr>\n",
       "      <th>4</th>\n",
       "      <td>tt1499658</td>\n",
       "      <td>Horrible Bosses</td>\n",
       "      <td>Horrible Bosses</td>\n",
       "      <td>2011</td>\n",
       "      <td>98.0</td>\n",
       "      <td>Comedy,Crime</td>\n",
       "      <td>Horrible Bosses</td>\n",
       "      <td>WB (NL)</td>\n",
       "      <td>117500000.0</td>\n",
       "      <td>92100000.0</td>\n",
       "      <td>2011</td>\n",
       "      <td>2.096000e+08</td>\n",
       "    </tr>\n",
       "    <tr>\n",
       "      <th>...</th>\n",
       "      <td>...</td>\n",
       "      <td>...</td>\n",
       "      <td>...</td>\n",
       "      <td>...</td>\n",
       "      <td>...</td>\n",
       "      <td>...</td>\n",
       "      <td>...</td>\n",
       "      <td>...</td>\n",
       "      <td>...</td>\n",
       "      <td>...</td>\n",
       "      <td>...</td>\n",
       "      <td>...</td>\n",
       "    </tr>\n",
       "    <tr>\n",
       "      <th>95</th>\n",
       "      <td>tt1345836</td>\n",
       "      <td>The Dark Knight Rises</td>\n",
       "      <td>The Dark Knight Rises</td>\n",
       "      <td>2012</td>\n",
       "      <td>164.0</td>\n",
       "      <td>Action,Thriller</td>\n",
       "      <td>The Dark Knight Rises</td>\n",
       "      <td>WB</td>\n",
       "      <td>448100000.0</td>\n",
       "      <td>636800000.0</td>\n",
       "      <td>2012</td>\n",
       "      <td>1.084900e+09</td>\n",
       "    </tr>\n",
       "    <tr>\n",
       "      <th>96</th>\n",
       "      <td>tt1504320</td>\n",
       "      <td>The King's Speech</td>\n",
       "      <td>The King's Speech</td>\n",
       "      <td>2010</td>\n",
       "      <td>118.0</td>\n",
       "      <td>Biography,Drama,History</td>\n",
       "      <td>The King's Speech</td>\n",
       "      <td>Wein.</td>\n",
       "      <td>135500000.0</td>\n",
       "      <td>275400000.0</td>\n",
       "      <td>2010</td>\n",
       "      <td>4.109000e+08</td>\n",
       "    </tr>\n",
       "    <tr>\n",
       "      <th>97</th>\n",
       "      <td>tt1508675</td>\n",
       "      <td>Le Havre</td>\n",
       "      <td>Le Havre</td>\n",
       "      <td>2011</td>\n",
       "      <td>93.0</td>\n",
       "      <td>Comedy,Drama</td>\n",
       "      <td>Le Havre</td>\n",
       "      <td>Jan.</td>\n",
       "      <td>612000.0</td>\n",
       "      <td>9900000.0</td>\n",
       "      <td>2011</td>\n",
       "      <td>1.051200e+07</td>\n",
       "    </tr>\n",
       "    <tr>\n",
       "      <th>98</th>\n",
       "      <td>tt1542344</td>\n",
       "      <td>127 Hours</td>\n",
       "      <td>127 Hours</td>\n",
       "      <td>2010</td>\n",
       "      <td>94.0</td>\n",
       "      <td>Adventure,Biography,Drama</td>\n",
       "      <td>127 Hours</td>\n",
       "      <td>FoxS</td>\n",
       "      <td>18300000.0</td>\n",
       "      <td>42400000.0</td>\n",
       "      <td>2010</td>\n",
       "      <td>6.070000e+07</td>\n",
       "    </tr>\n",
       "    <tr>\n",
       "      <th>99</th>\n",
       "      <td>tt1606389</td>\n",
       "      <td>The Vow</td>\n",
       "      <td>The Vow</td>\n",
       "      <td>2012</td>\n",
       "      <td>104.0</td>\n",
       "      <td>Drama,Romance</td>\n",
       "      <td>The Vow</td>\n",
       "      <td>SGem</td>\n",
       "      <td>125000000.0</td>\n",
       "      <td>71100000.0</td>\n",
       "      <td>2012</td>\n",
       "      <td>1.961000e+08</td>\n",
       "    </tr>\n",
       "  </tbody>\n",
       "</table>\n",
       "<p>100 rows × 12 columns</p>\n",
       "</div>"
      ],
      "text/plain": [
       "     movie_id                         primary_title  \\\n",
       "0   tt1210166                             Moneyball   \n",
       "1   tt1229238  Mission: Impossible - Ghost Protocol   \n",
       "2   tt1232829                        21 Jump Street   \n",
       "3   tt1403981                           Remember Me   \n",
       "4   tt1499658                       Horrible Bosses   \n",
       "..        ...                                   ...   \n",
       "95  tt1345836                 The Dark Knight Rises   \n",
       "96  tt1504320                     The King's Speech   \n",
       "97  tt1508675                              Le Havre   \n",
       "98  tt1542344                             127 Hours   \n",
       "99  tt1606389                               The Vow   \n",
       "\n",
       "                          original_title  start_year  runtime_minutes  \\\n",
       "0                              Moneyball        2011            133.0   \n",
       "1   Mission: Impossible - Ghost Protocol        2011            132.0   \n",
       "2                         21 Jump Street        2012            109.0   \n",
       "3                            Remember Me        2010            113.0   \n",
       "4                        Horrible Bosses        2011             98.0   \n",
       "..                                   ...         ...              ...   \n",
       "95                 The Dark Knight Rises        2012            164.0   \n",
       "96                     The King's Speech        2010            118.0   \n",
       "97                              Le Havre        2011             93.0   \n",
       "98                             127 Hours        2010             94.0   \n",
       "99                               The Vow        2012            104.0   \n",
       "\n",
       "                       genres                                 title   studio  \\\n",
       "0       Biography,Drama,Sport                             Moneyball     Sony   \n",
       "1   Action,Adventure,Thriller  Mission: Impossible - Ghost Protocol     Par.   \n",
       "2         Action,Comedy,Crime                        21 Jump Street     Sony   \n",
       "3               Drama,Romance                           Remember Me     Sum.   \n",
       "4                Comedy,Crime                       Horrible Bosses  WB (NL)   \n",
       "..                        ...                                   ...      ...   \n",
       "95            Action,Thriller                 The Dark Knight Rises       WB   \n",
       "96    Biography,Drama,History                     The King's Speech    Wein.   \n",
       "97               Comedy,Drama                              Le Havre     Jan.   \n",
       "98  Adventure,Biography,Drama                             127 Hours     FoxS   \n",
       "99              Drama,Romance                               The Vow     SGem   \n",
       "\n",
       "    domestic_gross  foreign_gross  year   total_gross  \n",
       "0       75600000.0     34600000.0  2011  1.102000e+08  \n",
       "1      209400000.0    485300000.0  2011  6.947000e+08  \n",
       "2      138400000.0     63100000.0  2012  2.015000e+08  \n",
       "3       19100000.0     37000000.0  2010  5.610000e+07  \n",
       "4      117500000.0     92100000.0  2011  2.096000e+08  \n",
       "..             ...            ...   ...           ...  \n",
       "95     448100000.0    636800000.0  2012  1.084900e+09  \n",
       "96     135500000.0    275400000.0  2010  4.109000e+08  \n",
       "97        612000.0      9900000.0  2011  1.051200e+07  \n",
       "98      18300000.0     42400000.0  2010  6.070000e+07  \n",
       "99     125000000.0     71100000.0  2012  1.961000e+08  \n",
       "\n",
       "[100 rows x 12 columns]"
      ]
     },
     "execution_count": 161,
     "metadata": {},
     "output_type": "execute_result"
    }
   ],
   "source": [
    "pd.read_sql(joined_query, conn)"
   ]
  },
  {
   "cell_type": "markdown",
   "metadata": {},
   "source": [
    "## 3.3 Data Analysis"
   ]
  },
  {
   "cell_type": "code",
   "execution_count": 162,
   "metadata": {},
   "outputs": [],
   "source": [
    "\n",
    "import seaborn as sns\n",
    "from sqlalchemy import create_engine\n",
    "\n",
    "# Connect to the SQLite database using SQLAlchemy\n",
    "engine = create_engine('sqlite:///im.db')\n",
    "\n",
    "# Execute the joined query\n",
    "joined_query = \"\"\"\n",
    "    SELECT mb.*, bom.*, mr.averagerating\n",
    "    FROM movie_basics mb\n",
    "    INNER JOIN bom ON (mb.primary_title = bom.title OR mb.original_title = bom.title) AND mb.start_year = bom.year\n",
    "    INNER JOIN movie_ratings mr ON mb.movie_id = mr.movie_id\n",
    "    WHERE mr.numvotes >= 3523.6621669194105 AND mr.averagerating > 1 AND bom.domestic_gross > 0;\n",
    "\"\"\"\n",
    "\n",
    "sv = pd.read_sql(joined_query, engine)"
   ]
  },
  {
   "cell_type": "markdown",
   "metadata": {},
   "source": [
    "#### Is there a correlation between the average ratings and the total gross income?"
   ]
  },
  {
   "cell_type": "code",
   "execution_count": 163,
   "metadata": {},
   "outputs": [
    {
     "data": {
      "image/png": "[encoded data removed]",
      "text/plain": [
       "<Figure size 1000x600 with 1 Axes>"
      ]
     },
     "metadata": {},
     "output_type": "display_data"
    }
   ],
   "source": [
    "# Draw a scatter plot\n",
    "plt.figure(figsize=(10, 6))\n",
    "sns.scatterplot(x='averagerating', y='total_gross', data=sv)\n",
    "plt.title('Scatter Plot: Average Ratings vs. Total Gross')\n",
    "plt.xlabel('Average Ratings')\n",
    "plt.ylabel('Total Gross')\n",
    "\n",
    "# Calculate and display the correlation coefficient\n",
    "correlation_coefficient = sv['averagerating'].corr(sv['total_gross'])\n",
    "plt.text(0.5, 0.95, f'Correlation Coefficient: {correlation_coefficient:.2f}', horizontalalignment='center', verticalalignment='center', transform=plt.gca().transAxes)\n",
    "\n",
    "plt.show()"
   ]
  },
  {
   "cell_type": "markdown",
   "metadata": {},
   "source": [
    "While the correlation coefficient is positive, at 0.25, this shows that there is a weak correlation between the movie sets. Therefore, the company should not consider  that the average rating as an indication to predict the total gross, or vice versa."
   ]
  },
  {
   "cell_type": "markdown",
   "metadata": {},
   "source": [
    "### Which movies had the individual highest rating over the period of time? "
   ]
  },
  {
   "cell_type": "code",
   "execution_count": 164,
   "metadata": {},
   "outputs": [
    {
     "data": {
      "text/html": [
       "<div>\n",
       "<style scoped>\n",
       "    .dataframe tbody tr th:only-of-type {\n",
       "        vertical-align: middle;\n",
       "    }\n",
       "\n",
       "    .dataframe tbody tr th {\n",
       "        vertical-align: top;\n",
       "    }\n",
       "\n",
       "    .dataframe thead th {\n",
       "        text-align: right;\n",
       "    }\n",
       "</style>\n",
       "<table border=\"1\" class=\"dataframe\">\n",
       "  <thead>\n",
       "    <tr style=\"text-align: right;\">\n",
       "      <th></th>\n",
       "      <th>genres</th>\n",
       "      <th>runtime_minutes</th>\n",
       "      <th>start_year</th>\n",
       "      <th>averagerating</th>\n",
       "      <th>numvotes</th>\n",
       "    </tr>\n",
       "  </thead>\n",
       "  <tbody>\n",
       "    <tr>\n",
       "      <th>0</th>\n",
       "      <td>Comedy,Drama</td>\n",
       "      <td>159.0</td>\n",
       "      <td>2019</td>\n",
       "      <td>9.7</td>\n",
       "      <td>5600</td>\n",
       "    </tr>\n",
       "    <tr>\n",
       "      <th>1</th>\n",
       "      <td>Drama,History</td>\n",
       "      <td>113.0</td>\n",
       "      <td>2017</td>\n",
       "      <td>9.5</td>\n",
       "      <td>6509</td>\n",
       "    </tr>\n",
       "    <tr>\n",
       "      <th>2</th>\n",
       "      <td>Drama</td>\n",
       "      <td>147.0</td>\n",
       "      <td>2018</td>\n",
       "      <td>9.4</td>\n",
       "      <td>9629</td>\n",
       "    </tr>\n",
       "    <tr>\n",
       "      <th>3</th>\n",
       "      <td>Action,Drama,War</td>\n",
       "      <td>135.0</td>\n",
       "      <td>2016</td>\n",
       "      <td>9.3</td>\n",
       "      <td>100568</td>\n",
       "    </tr>\n",
       "    <tr>\n",
       "      <th>4</th>\n",
       "      <td>Crime,Mystery,Thriller</td>\n",
       "      <td>147.0</td>\n",
       "      <td>2016</td>\n",
       "      <td>9.3</td>\n",
       "      <td>18470</td>\n",
       "    </tr>\n",
       "    <tr>\n",
       "      <th>5</th>\n",
       "      <td>Drama</td>\n",
       "      <td>115.0</td>\n",
       "      <td>2014</td>\n",
       "      <td>9.3</td>\n",
       "      <td>17308</td>\n",
       "    </tr>\n",
       "    <tr>\n",
       "      <th>6</th>\n",
       "      <td>Drama,Family</td>\n",
       "      <td>166.0</td>\n",
       "      <td>2016</td>\n",
       "      <td>9.2</td>\n",
       "      <td>4297</td>\n",
       "    </tr>\n",
       "    <tr>\n",
       "      <th>7</th>\n",
       "      <td>Comedy,Documentary</td>\n",
       "      <td>139.0</td>\n",
       "      <td>2013</td>\n",
       "      <td>9.2</td>\n",
       "      <td>41560</td>\n",
       "    </tr>\n",
       "    <tr>\n",
       "      <th>8</th>\n",
       "      <td>Drama</td>\n",
       "      <td>102.0</td>\n",
       "      <td>2018</td>\n",
       "      <td>9.1</td>\n",
       "      <td>4162</td>\n",
       "    </tr>\n",
       "    <tr>\n",
       "      <th>9</th>\n",
       "      <td>Drama</td>\n",
       "      <td>154.0</td>\n",
       "      <td>2018</td>\n",
       "      <td>9.0</td>\n",
       "      <td>4854</td>\n",
       "    </tr>\n",
       "    <tr>\n",
       "      <th>10</th>\n",
       "      <td>Biography,Crime,Documentary</td>\n",
       "      <td>467.0</td>\n",
       "      <td>2016</td>\n",
       "      <td>8.9</td>\n",
       "      <td>14946</td>\n",
       "    </tr>\n",
       "    <tr>\n",
       "      <th>11</th>\n",
       "      <td>Drama,Music,Musical</td>\n",
       "      <td>178.0</td>\n",
       "      <td>2010</td>\n",
       "      <td>8.8</td>\n",
       "      <td>4583</td>\n",
       "    </tr>\n",
       "    <tr>\n",
       "      <th>12</th>\n",
       "      <td>Crime,Drama,Thriller</td>\n",
       "      <td>160.0</td>\n",
       "      <td>2013</td>\n",
       "      <td>8.8</td>\n",
       "      <td>24326</td>\n",
       "    </tr>\n",
       "    <tr>\n",
       "      <th>13</th>\n",
       "      <td>Action,Crime,Thriller</td>\n",
       "      <td>170.0</td>\n",
       "      <td>2018</td>\n",
       "      <td>8.8</td>\n",
       "      <td>10518</td>\n",
       "    </tr>\n",
       "    <tr>\n",
       "      <th>14</th>\n",
       "      <td>Drama</td>\n",
       "      <td>130.0</td>\n",
       "      <td>2016</td>\n",
       "      <td>8.8</td>\n",
       "      <td>8277</td>\n",
       "    </tr>\n",
       "    <tr>\n",
       "      <th>15</th>\n",
       "      <td>Drama,Music,Musical</td>\n",
       "      <td>137.0</td>\n",
       "      <td>2011</td>\n",
       "      <td>8.8</td>\n",
       "      <td>5926</td>\n",
       "    </tr>\n",
       "    <tr>\n",
       "      <th>16</th>\n",
       "      <td>Drama,Romance</td>\n",
       "      <td>158.0</td>\n",
       "      <td>2018</td>\n",
       "      <td>8.8</td>\n",
       "      <td>10903</td>\n",
       "    </tr>\n",
       "    <tr>\n",
       "      <th>17</th>\n",
       "      <td>Action,Adventure,Sci-Fi</td>\n",
       "      <td>181.0</td>\n",
       "      <td>2019</td>\n",
       "      <td>8.8</td>\n",
       "      <td>441135</td>\n",
       "    </tr>\n",
       "    <tr>\n",
       "      <th>18</th>\n",
       "      <td>Action,Adventure,Sci-Fi</td>\n",
       "      <td>148.0</td>\n",
       "      <td>2010</td>\n",
       "      <td>8.8</td>\n",
       "      <td>1841066</td>\n",
       "    </tr>\n",
       "    <tr>\n",
       "      <th>19</th>\n",
       "      <td>Action,Crime</td>\n",
       "      <td>164.0</td>\n",
       "      <td>2018</td>\n",
       "      <td>8.7</td>\n",
       "      <td>6217</td>\n",
       "    </tr>\n",
       "  </tbody>\n",
       "</table>\n",
       "</div>"
      ],
      "text/plain": [
       "                         genres  runtime_minutes  start_year  averagerating  \\\n",
       "0                  Comedy,Drama            159.0        2019            9.7   \n",
       "1                 Drama,History            113.0        2017            9.5   \n",
       "2                         Drama            147.0        2018            9.4   \n",
       "3              Action,Drama,War            135.0        2016            9.3   \n",
       "4        Crime,Mystery,Thriller            147.0        2016            9.3   \n",
       "5                         Drama            115.0        2014            9.3   \n",
       "6                  Drama,Family            166.0        2016            9.2   \n",
       "7            Comedy,Documentary            139.0        2013            9.2   \n",
       "8                         Drama            102.0        2018            9.1   \n",
       "9                         Drama            154.0        2018            9.0   \n",
       "10  Biography,Crime,Documentary            467.0        2016            8.9   \n",
       "11          Drama,Music,Musical            178.0        2010            8.8   \n",
       "12         Crime,Drama,Thriller            160.0        2013            8.8   \n",
       "13        Action,Crime,Thriller            170.0        2018            8.8   \n",
       "14                        Drama            130.0        2016            8.8   \n",
       "15          Drama,Music,Musical            137.0        2011            8.8   \n",
       "16                Drama,Romance            158.0        2018            8.8   \n",
       "17      Action,Adventure,Sci-Fi            181.0        2019            8.8   \n",
       "18      Action,Adventure,Sci-Fi            148.0        2010            8.8   \n",
       "19                 Action,Crime            164.0        2018            8.7   \n",
       "\n",
       "    numvotes  \n",
       "0       5600  \n",
       "1       6509  \n",
       "2       9629  \n",
       "3     100568  \n",
       "4      18470  \n",
       "5      17308  \n",
       "6       4297  \n",
       "7      41560  \n",
       "8       4162  \n",
       "9       4854  \n",
       "10     14946  \n",
       "11      4583  \n",
       "12     24326  \n",
       "13     10518  \n",
       "14      8277  \n",
       "15      5926  \n",
       "16     10903  \n",
       "17    441135  \n",
       "18   1841066  \n",
       "19      6217  "
      ]
     },
     "execution_count": 164,
     "metadata": {},
     "output_type": "execute_result"
    }
   ],
   "source": [
    "#find the particular movie that had the individual highest rating over the period of time\n",
    "data_query= \"\"\"\n",
    "SELECT genres, runtime_minutes, start_year, averagerating, numvotes\n",
    "FROM movie_basics mb\n",
    "INNER JOIN movie_ratings mr\n",
    "ON mb.movie_id = mr.movie_id\n",
    "WHERE numvotes>=3523.6621669194105 AND averagerating> 5\n",
    "ORDER BY averagerating DESC\n",
    "LIMIT 20\n",
    "\"\"\"\n",
    "pd.read_sql(data_query,conn)"
   ]
  },
  {
   "cell_type": "markdown",
   "metadata": {},
   "source": [
    "From the table above, we can conclude that the top rated movie over the specified time period was a Comedy and Drama. However, this data refers to the single top rated film, and not the average rating over all the genres. This is particularly helpful if Microsoft would want to know the single movie that appealed to most. "
   ]
  },
  {
   "cell_type": "code",
   "execution_count": 165,
   "metadata": {},
   "outputs": [
    {
     "data": {
      "text/html": [
       "<div>\n",
       "<style scoped>\n",
       "    .dataframe tbody tr th:only-of-type {\n",
       "        vertical-align: middle;\n",
       "    }\n",
       "\n",
       "    .dataframe tbody tr th {\n",
       "        vertical-align: top;\n",
       "    }\n",
       "\n",
       "    .dataframe thead th {\n",
       "        text-align: right;\n",
       "    }\n",
       "</style>\n",
       "<table border=\"1\" class=\"dataframe\">\n",
       "  <thead>\n",
       "    <tr style=\"text-align: right;\">\n",
       "      <th></th>\n",
       "      <th>movie_id</th>\n",
       "      <th>movie</th>\n",
       "      <th>total_gross</th>\n",
       "      <th>genre</th>\n",
       "      <th>director</th>\n",
       "      <th>writer</th>\n",
       "    </tr>\n",
       "  </thead>\n",
       "  <tbody>\n",
       "    <tr>\n",
       "      <th>0</th>\n",
       "      <td>tt1636456</td>\n",
       "      <td>The Intern</td>\n",
       "      <td>194600000.0</td>\n",
       "      <td>None</td>\n",
       "      <td>Clara Picasso</td>\n",
       "      <td>Clara Picasso</td>\n",
       "    </tr>\n",
       "    <tr>\n",
       "      <th>1</th>\n",
       "      <td>tt10056334</td>\n",
       "      <td>Octubre</td>\n",
       "      <td>128800.0</td>\n",
       "      <td>Documentary</td>\n",
       "      <td>Ernest Vila</td>\n",
       "      <td>Ernest Vila</td>\n",
       "    </tr>\n",
       "  </tbody>\n",
       "</table>\n",
       "</div>"
      ],
      "text/plain": [
       "     movie_id       movie  total_gross        genre       director  \\\n",
       "0   tt1636456  The Intern  194600000.0         None  Clara Picasso   \n",
       "1  tt10056334     Octubre     128800.0  Documentary    Ernest Vila   \n",
       "\n",
       "          writer  \n",
       "0  Clara Picasso  \n",
       "1    Ernest Vila  "
      ]
     },
     "execution_count": 165,
     "metadata": {},
     "output_type": "execute_result"
    }
   ],
   "source": [
    "#Find the top directors for the top grossing movies. \n",
    "qr = \"\"\"\n",
    "    SELECT mb.movie_id, b.title as movie, b.total_gross, mb.genres as genre, p.primary_name as director, pw.primary_name as writer\n",
    "    FROM movie_basics mb\n",
    "    INNER JOIN bom b\n",
    "        ON b.title = mb.primary_title OR b.title = mb.original_title\n",
    "    INNER JOIN (\n",
    "        SELECT DISTINCT movie_id, person_id FROM directors\n",
    "    ) d\n",
    "        ON d.movie_id = mb.movie_id\n",
    "    INNER JOIN persons p\n",
    "        ON d.person_id = p.person_id\n",
    "    INNER JOIN (\n",
    "        SELECT DISTINCT person_id, movie_id FROM writers\n",
    "    ) w\n",
    "        ON w.movie_id = mb.movie_id\n",
    "    INNER JOIN persons pw\n",
    "        ON pw.person_id = w.person_id\n",
    "    WHERE total_gross > 0\n",
    "    GROUP BY genre AND genre = 'biography'\n",
    "    ORDER BY total_gross DESC\n",
    "    LIMIT 100;\n",
    "\"\"\"\n",
    "\n",
    "pd.read_sql(qr, conn)"
   ]
  },
  {
   "cell_type": "markdown",
   "metadata": {},
   "source": [
    "# Conclusion "
   ]
  },
  {
   "cell_type": "markdown",
   "metadata": {},
   "source": [
    "Here is the summary of the key recommendations:;\n",
    "- The foreign market forms a key part of each studio's gross income. Therefore, Microsoft should ensure that the films produced appeal to a global audience. \n",
    "- For the past years, Biographies have had the highest rating. Therefore Microsoft should consider the genre when deciding on which film to produce.  \n",
    "- Microsoft should not focus much on average movie ratings and indicators of the expected gross income. Instead, it should use the average ratings to know which genres the consumers would enjoy watching. \n",
    "- Microsoft could look for potential directors to add to their staff, depending on the genre they would want to start with, based on the table of directors for the top grossing films over the specified time period.  "
   ]
  }
 ],
 "metadata": {
  "kernelspec": {
   "display_name": "learn-env",
   "language": "python",
   "name": "python3"
  },
  "language_info": {
   "codemirror_mode": {
    "name": "ipython",
    "version": 3
   },
   "file_extension": ".py",
   "mimetype": "text/x-python",
   "name": "python",
   "nbconvert_exporter": "python",
   "pygments_lexer": "ipython3",
   "version": "3.10.13"
  }
 },
 "nbformat": 4,
 "nbformat_minor": 2
}
